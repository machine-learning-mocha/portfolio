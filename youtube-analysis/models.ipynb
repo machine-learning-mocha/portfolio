{
 "cells": [
  {
   "cell_type": "markdown",
   "metadata": {},
   "source": [
    "# Import section"
   ]
  },
  {
   "cell_type": "code",
   "execution_count": 1,
   "metadata": {},
   "outputs": [],
   "source": [
    "from keras.layers import *\n",
    "from keras.models import Sequential"
   ]
  },
  {
   "cell_type": "markdown",
   "metadata": {},
   "source": [
    "# Models methods"
   ]
  },
  {
   "cell_type": "markdown",
   "metadata": {},
   "source": [
    "## Multilayer Perceptron (MPL)"
   ]
  },
  {
   "cell_type": "code",
   "execution_count": 6,
   "metadata": {},
   "outputs": [],
   "source": [
    "def mlp_model(hidden_units, classes, top_words, embedding_size, max_len):\n",
    "    \n",
    "    model = Sequential()\n",
    "    model.add(Embedding(top_words, embedding_size, input_length=max_len))\n",
    "    model.add(Flatten())\n",
    "    model.add(Dense(hidden_units, activation='relu'))\n",
    "    \n",
    "    if classes > 2:\n",
    "        model.add(Dense(classes, activation='softmax'))\n",
    "        model.compile(loss='categorical_crossentropy', optimizer='adam', metrics=['accuracy'])\n",
    "    else:\n",
    "        model.add(Dense(1, activation='sigmoid'))\n",
    "        model.compile(loss='binary_crossentropy', optimizer='adam', metrics=['accuracy'])\n",
    "    \n",
    "    return model"
   ]
  },
  {
   "cell_type": "markdown",
   "metadata": {},
   "source": [
    "## 1-dimensional Convolutional Neural Network"
   ]
  },
  {
   "cell_type": "markdown",
   "metadata": {},
   "source": [
    "def cnn_model(filters, kernel_size, hidden_units, classes, top_words, embedding_size, max_len):\n",
    "    \n",
    "    model = Sequential()\n",
    "    model.add(Embedding(top_words, embedding_size, input_length=max_len))\n",
    "    model.add(Conv1D(filters, kernel_size, padding='same', activation='relu'))\n",
    "    model.add(MaxPooling1D(pool_size=2))\n",
    "    model.add(Flatten())\n",
    "    model.add(Dense(hidden_units, activation='relu'))\n",
    "    \n",
    "    if classes > 2:\n",
    "        model.add(Dense(classes, activation='softmax'))\n",
    "        model.compile(loss='categorical_crossentropy', optimizer='adam', metrics=['accuracy'])\n",
    "    else:\n",
    "        model.add(Dense(1, activation='sigmoid'))\n",
    "        model.compile(loss='binary_crossentropy', optimizer='adam', metrics=['accuracy'])\n",
    "\n",
    "    return model"
   ]
  },
  {
   "cell_type": "markdown",
   "metadata": {},
   "source": [
    "## Long-short Term Memory"
   ]
  },
  {
   "cell_type": "code",
   "execution_count": 7,
   "metadata": {},
   "outputs": [],
   "source": [
    "def lstm_model(lstm_units, classes, top_words, embedding_size, max_len):\n",
    "    \n",
    "    model = Sequential()\n",
    "    model.add(Embedding(top_words, embedding_size, input_length=max_len))\n",
    "    model.add(Dropout(0.2))\n",
    "    model.add(LSTM(lstm_units, activation='tanh'))\n",
    "    model.add(Dropout(0.2))\n",
    "    \n",
    "    if classes > 2:\n",
    "        model.add(Dense(classes, activation='softmax'))\n",
    "        model.compile(loss='categorical_crossentropy', optimizer='adam', metrics=['accuracy'])\n",
    "    else:\n",
    "        model.add(Dense(1, activation='sigmoid'))\n",
    "        model.compile(loss='binary_crossentropy', optimizer='adam', metrics=['accuracy'])\n",
    "    \n",
    "    return model"
   ]
  }
 ],
 "metadata": {
  "kernelspec": {
   "display_name": "Python 3",
   "language": "python",
   "name": "python3"
  },
  "language_info": {
   "codemirror_mode": {
    "name": "ipython",
    "version": 3
   },
   "file_extension": ".py",
   "mimetype": "text/x-python",
   "name": "python",
   "nbconvert_exporter": "python",
   "pygments_lexer": "ipython3",
   "version": "3.7.5"
  }
 },
 "nbformat": 4,
 "nbformat_minor": 4
}
