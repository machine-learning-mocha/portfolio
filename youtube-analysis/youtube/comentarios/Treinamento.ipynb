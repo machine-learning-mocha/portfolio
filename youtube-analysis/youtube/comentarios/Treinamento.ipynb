{
 "cells": [
  {
   "cell_type": "code",
   "execution_count": 3,
   "metadata": {},
   "outputs": [
    {
     "name": "stderr",
     "output_type": "stream",
     "text": [
      "Using TensorFlow backend.\n"
     ]
    }
   ],
   "source": [
    "%run -i \"./Utils.ipynb\"\n",
    "%run -i \"./Modelos.ipynb\""
   ]
  },
  {
   "cell_type": "code",
   "execution_count": 4,
   "metadata": {},
   "outputs": [],
   "source": [
    "file = 'UScommentTest.csv'\n",
    "top_words = 43 # 10000\n",
    "embedding_size = 32\n",
    "max_len = 100 # 1000"
   ]
  },
  {
   "cell_type": "markdown",
   "metadata": {},
   "source": [
    "<h2>Generate Data</h2>"
   ]
  },
  {
   "cell_type": "code",
   "execution_count": 5,
   "metadata": {},
   "outputs": [
    {
     "name": "stdout",
     "output_type": "stream",
     "text": [
      "43\n",
      "43\n",
      "[[0. 1.]\n",
      " [0. 1.]\n",
      " [0. 1.]\n",
      " ...\n",
      " [0. 1.]\n",
      " [0. 1.]\n",
      " [0. 1.]]\n"
     ]
    }
   ],
   "source": [
    "X_data, y_data = gen_dataset(file, delim=',', top_words=top_words, pad_len=max_len, balancing = False)"
   ]
  },
  {
   "cell_type": "code",
   "execution_count": 7,
   "metadata": {},
   "outputs": [],
   "source": [
    "classes = y_data.shape[1]"
   ]
  },
  {
   "cell_type": "markdown",
   "metadata": {},
   "source": [
    "<h2>Train-Test Split</h2>"
   ]
  },
  {
   "cell_type": "code",
   "execution_count": 9,
   "metadata": {},
   "outputs": [],
   "source": [
    "from sklearn.model_selection import train_test_split"
   ]
  },
  {
   "cell_type": "code",
   "execution_count": 10,
   "metadata": {},
   "outputs": [],
   "source": [
    "X_train, X_test, y_train, y_test = train_test_split(X_data, y_data, test_size=0.3, random_state=42)\n",
    "\n",
    "X_train, X_val, y_train, y_val = train_test_split(X_train, y_train, test_size=0.1, random_state=42)"
   ]
  },
  {
   "cell_type": "code",
   "execution_count": 11,
   "metadata": {},
   "outputs": [],
   "source": [
    "from imblearn.over_sampling import SMOTE"
   ]
  },
  {
   "cell_type": "code",
   "execution_count": 112,
   "metadata": {},
   "outputs": [],
   "source": [
    "y_train_compact = y_train.copy()\n",
    "y_train_compact = pd.DataFrame(y_train_compact)\n",
    "y_train_compact = y_train_compact[1]\n",
    "balancer = SMOTE()\n",
    "x_resampled, y_resampled = balancer.fit_sample(X_train, y_train_compact)\n",
    "y_resampled = to_categorical(y_resampled)"
   ]
  },
  {
   "cell_type": "markdown",
   "metadata": {},
   "source": [
    "<h2>MLP - Training</h2>"
   ]
  },
  {
   "cell_type": "code",
   "execution_count": 122,
   "metadata": {},
   "outputs": [],
   "source": [
    "def model_training(model, train, test, validation, epochs, callbacks, file):\n",
    "    model_history = []\n",
    "    X_train, y_train = train\n",
    "    X_test, y_test = test\n",
    "    X_val, y_val = validation\n",
    "    \n",
    "    model_history.append(model.fit(X_train, y_train, epochs=10, validation_data=[X_val, y_val], callbacks=callbacks))\n",
    "    result = model.evaluate(X_test, y_test)\n",
    "\n",
    "    print('Accuracy (test set): {}'.format(result[1]))\n",
    "\n",
    "    plt.plot(model_history[-1].history['acc'])\n",
    "    plt.plot(model_history[-1].history['val_acc'])\n",
    "    plt.title('model accuracy')\n",
    "    plt.ylabel('accuracy')\n",
    "    plt.xlabel('epoch')\n",
    "    plt.legend(['train', 'test'], loc='upper left')\n",
    "    plt.show()\n",
    "    model.save_weights(file + \".hdf5\")\n",
    "    return model"
   ]
  },
  {
   "cell_type": "code",
   "execution_count": 125,
   "metadata": {},
   "outputs": [
    {
     "name": "stdout",
     "output_type": "stream",
     "text": [
      "Train on 1722 samples, validate on 115 samples\n",
      "Epoch 1/10\n",
      "1722/1722 [==============================] - 4s 2ms/step - loss: 0.6951 - acc: 0.5215 - val_loss: 0.6715 - val_acc: 0.8174\n",
      "Epoch 2/10\n",
      "1722/1722 [==============================] - 2s 954us/step - loss: 0.6591 - acc: 0.6510 - val_loss: 0.6407 - val_acc: 0.6348\n",
      "Epoch 3/10\n",
      "1722/1722 [==============================] - 2s 943us/step - loss: 0.4605 - acc: 0.8287 - val_loss: 0.4077 - val_acc: 0.7739\n",
      "Epoch 4/10\n",
      "1722/1722 [==============================] - 2s 938us/step - loss: 0.3490 - acc: 0.8554 - val_loss: 0.3803 - val_acc: 0.7739\n",
      "Epoch 5/10\n",
      "1722/1722 [==============================] - 2s 981us/step - loss: 0.3260 - acc: 0.8537 - val_loss: 0.4522 - val_acc: 0.7565\n",
      "Epoch 6/10\n",
      "1722/1722 [==============================] - 2s 906us/step - loss: 0.3036 - acc: 0.8641 - val_loss: 0.3392 - val_acc: 0.7913\n",
      "Epoch 7/10\n",
      "1722/1722 [==============================] - 1s 857us/step - loss: 0.2973 - acc: 0.8676 - val_loss: 0.3805 - val_acc: 0.7826\n",
      "Epoch 8/10\n",
      "1722/1722 [==============================] - 1s 863us/step - loss: 0.2870 - acc: 0.8717 - val_loss: 0.4404 - val_acc: 0.7565\n",
      "Epoch 9/10\n",
      "1722/1722 [==============================] - 1s 852us/step - loss: 0.2741 - acc: 0.8751 - val_loss: 0.3782 - val_acc: 0.7913\n",
      "493/493 [==============================] - 0s 132us/step\n",
      "Accuracy (test set): 0.7931034483967639\n"
     ]
    },
    {
     "data": {
      "image/png": "[encoded data removed]",
      "text/plain": [
       "<Figure size 432x288 with 1 Axes>"
      ]
     },
     "metadata": {},
     "output_type": "display_data"
    }
   ],
   "source": [
    "m = model_training(mlp_model(250, classes, top_words + 1, embedding_size, max_len), [x_resampled, y_resampled], [X_test, y_test], [X_val, y_val], 10, [early_stop], 'foo')"
   ]
  },
  {
   "cell_type": "code",
   "execution_count": 132,
   "metadata": {},
   "outputs": [],
   "source": [
    "y_pred = m.predict(X_test)"
   ]
  },
  {
   "cell_type": "code",
   "execution_count": 133,
   "metadata": {},
   "outputs": [
    {
     "data": {
      "image/png": "[encoded data removed]",
      "text/plain": [
       "<Figure size 432x288 with 2 Axes>"
      ]
     },
     "metadata": {},
     "output_type": "display_data"
    }
   ],
   "source": [
    "class_names = ['negativo', 'positivo']\n",
    "\n",
    "cnf_matrix = confusion_matrix(np.argmax(y_test, axis=1), np.argmax(y_pred, axis=1))\n",
    "np.set_printoptions(precision=2)\n",
    "\n",
    "plt.figure()\n",
    "plot_confusion_matrix(cnf_matrix, classes=class_names, normalize=True,\n",
    "                      title='Matriz de Confusão Normalizada')\n",
    "\n",
    "plt.show()"
   ]
  },
  {
   "cell_type": "code",
   "execution_count": 135,
   "metadata": {},
   "outputs": [
    {
     "name": "stderr",
     "output_type": "stream",
     "text": [
      "C:\\Anaconda3\\lib\\re.py:212: FutureWarning: split() requires a non-empty pattern match.\n",
      "  return _compile(pattern, flags).split(string, maxsplit)\n"
     ]
    }
   ],
   "source": [
    "word_to_id = np.load('word_to_id.npy').tolist()\n",
    "new_sample = transform_review('the worst movie ever made', word_to_id, 100)"
   ]
  },
  {
   "cell_type": "code",
   "execution_count": 136,
   "metadata": {},
   "outputs": [
    {
     "name": "stdout",
     "output_type": "stream",
     "text": [
      "O review 'the worst movie ever made' foi considerado negativo com 98.88% de confiança\n"
     ]
    }
   ],
   "source": [
    "pred = model.predict(new_sample)[0]\n",
    "i = np.argmax(pred)\n",
    "sentiment = class_names[i]\n",
    "conf = np.round(pred[i] * 100, 2)\n",
    "\n",
    "\n",
    "print(\"O review 'the worst movie ever made' foi considerado \" + sentiment + \" com {}% de confiança\".format(conf))"
   ]
  },
  {
   "cell_type": "code",
   "execution_count": null,
   "metadata": {},
   "outputs": [],
   "source": []
  },
  {
   "cell_type": "code",
   "execution_count": null,
   "metadata": {},
   "outputs": [],
   "source": []
  },
  {
   "cell_type": "code",
   "execution_count": 108,
   "metadata": {},
   "outputs": [],
   "source": [
    "from keras.callbacks import *"
   ]
  },
  {
   "cell_type": "code",
   "execution_count": 109,
   "metadata": {},
   "outputs": [],
   "source": [
    "early_stop = EarlyStopping(monitor='val_loss',\n",
    "                           min_delta=1e-6, \n",
    "                           patience=3, \n",
    "                           verbose=0, \n",
    "                           mode='auto', \n",
    "                           baseline=None)"
   ]
  },
  {
   "cell_type": "code",
   "execution_count": 110,
   "metadata": {},
   "outputs": [],
   "source": [
    "model = mlp_model(250, classes, top_words + 1, embedding_size, max_len)"
   ]
  },
  {
   "cell_type": "code",
   "execution_count": 111,
   "metadata": {},
   "outputs": [
    {
     "name": "stdout",
     "output_type": "stream",
     "text": [
      "Train on 1722 samples, validate on 115 samples\n",
      "Epoch 1/10\n",
      "1722/1722 [==============================] - 4s 2ms/step - loss: 0.6884 - acc: 0.5302 - val_loss: 0.6148 - val_acc: 0.8522\n",
      "Epoch 2/10\n",
      "1722/1722 [==============================] - 2s 1ms/step - loss: 0.5294 - acc: 0.7898 - val_loss: 0.4090 - val_acc: 0.7565\n",
      "Epoch 3/10\n",
      "1722/1722 [==============================] - 2s 1ms/step - loss: 0.3552 - acc: 0.8531 - val_loss: 0.3854 - val_acc: 0.7652\n",
      "Epoch 4/10\n",
      "1722/1722 [==============================] - 2s 1ms/step - loss: 0.3061 - acc: 0.8606 - val_loss: 0.3901 - val_acc: 0.7652\n",
      "Epoch 5/10\n",
      "1722/1722 [==============================] - 2s 1ms/step - loss: 0.2947 - acc: 0.8612 - val_loss: 0.3984 - val_acc: 0.7652\n",
      "Epoch 6/10\n",
      "1722/1722 [==============================] - 2s 1ms/step - loss: 0.2777 - acc: 0.8734 - val_loss: 0.4362 - val_acc: 0.7739\n",
      "493/493 [==============================] - 0s 166us/step\n",
      "Accuracy (test set): 0.8012170386604557\n"
     ]
    },
    {
     "data": {
      "image/png": "[encoded data removed]",
      "text/plain": [
       "<Figure size 432x288 with 1 Axes>"
      ]
     },
     "metadata": {},
     "output_type": "display_data"
    }
   ],
   "source": [
    "mlp_model_history = []\n",
    "\n",
    "mlp_model_history.append(model.fit(x_resampled, y_resampled, epochs=10, validation_data=[X_val, y_val], callbacks=[early_stop]))\n",
    "result = model.evaluate(X_test, y_test)\n",
    "\n",
    "print('Accuracy (test set): {}'.format(result[1]))\n",
    "plt.plot(mlp_model_history[-1].history['acc'])\n",
    "plt.plot(mlp_model_history[-1].history['val_acc'])\n",
    "plt.title('model accuracy')\n",
    "plt.ylabel('accuracy')\n",
    "plt.xlabel('epoch')\n",
    "plt.legend(['train', 'test'], loc='upper left')\n",
    "plt.show()"
   ]
  },
  {
   "cell_type": "code",
   "execution_count": 18,
   "metadata": {},
   "outputs": [],
   "source": [
    "model.save_weights(\"mlp_250_neurons.hdf5\")"
   ]
  },
  {
   "cell_type": "code",
   "execution_count": 19,
   "metadata": {},
   "outputs": [],
   "source": [
    "y_pred = model.predict(X_test)"
   ]
  },
  {
   "cell_type": "markdown",
   "metadata": {},
   "source": [
    "<h2>Plotando Matriz de Confusão</h2>"
   ]
  },
  {
   "cell_type": "code",
   "execution_count": 20,
   "metadata": {},
   "outputs": [
    {
     "data": {
      "image/png": "[encoded data removed]",
      "text/plain": [
       "<Figure size 432x288 with 2 Axes>"
      ]
     },
     "metadata": {},
     "output_type": "display_data"
    }
   ],
   "source": [
    "class_names = ['negativo', 'positivo']\n",
    "\n",
    "cnf_matrix = confusion_matrix(np.argmax(y_test, axis=1), np.argmax(y_pred, axis=1))\n",
    "np.set_printoptions(precision=2)\n",
    "\n",
    "plt.figure()\n",
    "plot_confusion_matrix(cnf_matrix, classes=class_names, normalize=True,\n",
    "                      title='Matriz de Confusão Normalizada')\n",
    "\n",
    "plt.show()"
   ]
  },
  {
   "cell_type": "markdown",
   "metadata": {},
   "source": [
    "<h2>Nova predição</h2>"
   ]
  },
  {
   "cell_type": "code",
   "execution_count": 21,
   "metadata": {},
   "outputs": [
    {
     "name": "stderr",
     "output_type": "stream",
     "text": [
      "C:\\Anaconda3\\lib\\re.py:212: FutureWarning: split() requires a non-empty pattern match.\n",
      "  return _compile(pattern, flags).split(string, maxsplit)\n"
     ]
    }
   ],
   "source": [
    "word_to_id = np.load('word_to_id.npy').tolist()\n",
    "\n",
    "new_sample = transform_review('the worst movie ever made', word_to_id, 100)"
   ]
  },
  {
   "cell_type": "code",
   "execution_count": 22,
   "metadata": {},
   "outputs": [
    {
     "name": "stdout",
     "output_type": "stream",
     "text": [
      "O review 'the worst movie ever made' foi considerado negativo com 98.8% de confiança\n"
     ]
    }
   ],
   "source": [
    "pred = model.predict(new_sample)[0]\n",
    "i = np.argmax(pred)\n",
    "sentiment = class_names[i]\n",
    "conf = np.round(pred[i] * 100, 2)\n",
    "\n",
    "\n",
    "print(\"O review 'the worst movie ever made' foi considerado \" + sentiment + \" com {}% de confiança\".format(conf))"
   ]
  },
  {
   "cell_type": "markdown",
   "metadata": {},
   "source": [
    "<h2>CNN 1D - Treinamento</h2>"
   ]
  },
  {
   "cell_type": "code",
   "execution_count": 63,
   "metadata": {},
   "outputs": [],
   "source": [
    "%run -i \"./Modelos.ipynb\""
   ]
  },
  {
   "cell_type": "code",
   "execution_count": 48,
   "metadata": {},
   "outputs": [],
   "source": [
    "from keras.callbacks import *"
   ]
  },
  {
   "cell_type": "code",
   "execution_count": 49,
   "metadata": {},
   "outputs": [],
   "source": [
    "early_stop = EarlyStopping(monitor='val_loss',\n",
    "                           min_delta=1e-6, \n",
    "                           patience=3, \n",
    "                           verbose=0, \n",
    "                           mode='auto', \n",
    "                           baseline=None)"
   ]
  },
  {
   "cell_type": "code",
   "execution_count": 50,
   "metadata": {},
   "outputs": [
    {
     "name": "stdout",
     "output_type": "stream",
     "text": [
      "_________________________________________________________________\n",
      "Layer (type)                 Output Shape              Param #   \n",
      "=================================================================\n",
      "embedding_16 (Embedding)     (None, 100, 32)           1408      \n",
      "_________________________________________________________________\n",
      "conv1d_15 (Conv1D)           (None, 100, 32)           3104      \n",
      "_________________________________________________________________\n",
      "max_pooling1d_15 (MaxPooling (None, 50, 32)            0         \n",
      "_________________________________________________________________\n",
      "flatten_16 (Flatten)         (None, 1600)              0         \n",
      "_________________________________________________________________\n",
      "dense_31 (Dense)             (None, 250)               400250    \n",
      "_________________________________________________________________\n",
      "dense_32 (Dense)             (None, 2)                 502       \n",
      "=================================================================\n",
      "Total params: 405,264\n",
      "Trainable params: 405,264\n",
      "Non-trainable params: 0\n",
      "_________________________________________________________________\n"
     ]
    }
   ],
   "source": [
    "model = cnn_model(32, 3, 250, 2, top_words + 1, embedding_size, max_len)\n",
    "model.summary()"
   ]
  },
  {
   "cell_type": "code",
   "execution_count": 51,
   "metadata": {},
   "outputs": [
    {
     "name": "stdout",
     "output_type": "stream",
     "text": [
      "Train on 1034 samples, validate on 115 samples\n",
      "Epoch 1/5\n",
      "1034/1034 [==============================] - 6s 6ms/step - loss: 0.4865 - acc: 0.8104 - val_loss: 0.4702 - val_acc: 0.8174\n",
      "Epoch 2/5\n",
      "1034/1034 [==============================] - 1s 719us/step - loss: 0.4269 - acc: 0.8327 - val_loss: 0.3994 - val_acc: 0.8174\n",
      "Epoch 3/5\n",
      "1034/1034 [==============================] - 1s 614us/step - loss: 0.3005 - acc: 0.8327 - val_loss: 0.2755 - val_acc: 0.8174\n",
      "Epoch 4/5\n",
      "1034/1034 [==============================] - 1s 612us/step - loss: 0.2323 - acc: 0.8443 - val_loss: 0.2604 - val_acc: 0.8348\n",
      "Epoch 5/5\n",
      "1034/1034 [==============================] - 1s 595us/step - loss: 0.2240 - acc: 0.8627 - val_loss: 0.2687 - val_acc: 0.8348\n",
      "493/493 [==============================] - 0s 147us/step\n",
      "Accuracy (test set): 0.8275862070174537\n"
     ]
    },
    {
     "data": {
      "image/png": "[encoded data removed]",
      "text/plain": [
       "<Figure size 432x288 with 1 Axes>"
      ]
     },
     "metadata": {},
     "output_type": "display_data"
    }
   ],
   "source": [
    "model.fit(X_train, y_train, epochs=5, validation_data=[X_val, y_val], callbacks=[early_stop])\n",
    "result = model.evaluate(X_test, y_test)\n",
    "\n",
    "print('Accuracy (test set): {}'.format(result[1]))\n",
    "plt.plot(model.history.history['acc'])\n",
    "plt.plot(model.history.history['val_acc'])\n",
    "plt.title('model accuracy')\n",
    "plt.ylabel('accuracy')\n",
    "plt.xlabel('epoch')\n",
    "plt.legend(['train', 'test'], loc='upper left')\n",
    "plt.show()"
   ]
  },
  {
   "cell_type": "code",
   "execution_count": 53,
   "metadata": {},
   "outputs": [],
   "source": [
    "model.save_weights(\"cnn_32filters_250_neurons.hdf5\")"
   ]
  },
  {
   "cell_type": "code",
   "execution_count": 58,
   "metadata": {},
   "outputs": [],
   "source": [
    "y_pred = model.predict(X_test)"
   ]
  },
  {
   "cell_type": "markdown",
   "metadata": {},
   "source": [
    "<h2>Plotando Matriz de Confusão</h2>"
   ]
  },
  {
   "cell_type": "code",
   "execution_count": 59,
   "metadata": {},
   "outputs": [
    {
     "data": {
      "image/png": "[encoded data removed]",
      "text/plain": [
       "<Figure size 432x288 with 2 Axes>"
      ]
     },
     "metadata": {},
     "output_type": "display_data"
    }
   ],
   "source": [
    "class_names = ['negativo', 'positivo']\n",
    "\n",
    "cnf_matrix = confusion_matrix(np.argmax(y_test, axis=1), np.argmax(y_pred, axis=1))\n",
    "np.set_printoptions(precision=2)\n",
    "\n",
    "plt.figure()\n",
    "plot_confusion_matrix(cnf_matrix, classes=class_names, normalize=True,\n",
    "                      title='Matriz de Confusão Normalizada')\n",
    "\n",
    "plt.show()"
   ]
  },
  {
   "cell_type": "markdown",
   "metadata": {},
   "source": [
    "<h2>Nova predição</h2>"
   ]
  },
  {
   "cell_type": "code",
   "execution_count": 60,
   "metadata": {},
   "outputs": [
    {
     "name": "stderr",
     "output_type": "stream",
     "text": [
      "C:\\Anaconda3\\lib\\re.py:212: FutureWarning: split() requires a non-empty pattern match.\n",
      "  return _compile(pattern, flags).split(string, maxsplit)\n"
     ]
    }
   ],
   "source": [
    "word_to_id = np.load('word_to_id.npy').tolist()\n",
    "\n",
    "new_sample = transform_review('the worst movie ever made', word_to_id, 100)"
   ]
  },
  {
   "cell_type": "code",
   "execution_count": 61,
   "metadata": {},
   "outputs": [
    {
     "name": "stdout",
     "output_type": "stream",
     "text": [
      "O review 'the worst movie ever made' foi considerado negativo com 50.53% de confiança\n"
     ]
    }
   ],
   "source": [
    "pred = model.predict(new_sample)[0]\n",
    "i = np.argmax(pred)\n",
    "sentiment = class_names[i]\n",
    "conf = np.round(pred[i] * 100, 2)\n",
    "\n",
    "\n",
    "print(\"O review 'the worst movie ever made' foi considerado \" + sentiment + \" com {}% de confiança\".format(conf))"
   ]
  },
  {
   "cell_type": "markdown",
   "metadata": {},
   "source": [
    "<h2>LSTM - Treinamento</h2>"
   ]
  },
  {
   "cell_type": "code",
   "execution_count": 90,
   "metadata": {},
   "outputs": [],
   "source": [
    "%run -i \"./Modelos.ipynb\""
   ]
  },
  {
   "cell_type": "code",
   "execution_count": 91,
   "metadata": {},
   "outputs": [],
   "source": [
    "from keras.callbacks import *"
   ]
  },
  {
   "cell_type": "code",
   "execution_count": 92,
   "metadata": {},
   "outputs": [],
   "source": [
    "early_stop = EarlyStopping(monitor='val_loss',\n",
    "                           min_delta=1e-6, \n",
    "                           patience=3, \n",
    "                           verbose=0, \n",
    "                           mode='auto', \n",
    "                           baseline=None)"
   ]
  },
  {
   "cell_type": "code",
   "execution_count": 96,
   "metadata": {},
   "outputs": [
    {
     "name": "stdout",
     "output_type": "stream",
     "text": [
      "_________________________________________________________________\n",
      "Layer (type)                 Output Shape              Param #   \n",
      "=================================================================\n",
      "embedding_30 (Embedding)     (None, 100, 32)           1408      \n",
      "_________________________________________________________________\n",
      "dropout_27 (Dropout)         (None, 100, 32)           0         \n",
      "_________________________________________________________________\n",
      "lstm_14 (LSTM)               (None, 100)               53200     \n",
      "_________________________________________________________________\n",
      "dropout_28 (Dropout)         (None, 100)               0         \n",
      "_________________________________________________________________\n",
      "dense_46 (Dense)             (None, 2)                 202       \n",
      "=================================================================\n",
      "Total params: 54,810\n",
      "Trainable params: 54,810\n",
      "Non-trainable params: 0\n",
      "_________________________________________________________________\n"
     ]
    }
   ],
   "source": [
    "model = lstm_model(100, classes, top_words + 1, embedding_size, max_len)\n",
    "model.summary()"
   ]
  },
  {
   "cell_type": "code",
   "execution_count": 97,
   "metadata": {},
   "outputs": [
    {
     "name": "stdout",
     "output_type": "stream",
     "text": [
      "Train on 1034 samples, validate on 115 samples\n",
      "Epoch 1/10\n",
      "1034/1034 [==============================] - 9s 8ms/step - loss: 0.5012 - acc: 0.8327 - val_loss: 0.4758 - val_acc: 0.8174\n",
      "Epoch 2/10\n",
      "1034/1034 [==============================] - 3s 3ms/step - loss: 0.4527 - acc: 0.8327 - val_loss: 0.4753 - val_acc: 0.8174\n",
      "Epoch 3/10\n",
      "1034/1034 [==============================] - 2s 2ms/step - loss: 0.4601 - acc: 0.8327 - val_loss: 0.4770 - val_acc: 0.8174\n",
      "Epoch 4/10\n",
      "1034/1034 [==============================] - 2s 2ms/step - loss: 0.4589 - acc: 0.8327 - val_loss: 0.4756 - val_acc: 0.8174\n",
      "Epoch 5/10\n",
      "1034/1034 [==============================] - 2s 2ms/step - loss: 0.4550 - acc: 0.8327 - val_loss: 0.4805 - val_acc: 0.8174\n",
      "493/493 [==============================] - 0s 489us/step\n",
      "Accuracy (test set): 0.868154158335912\n"
     ]
    }
   ],
   "source": [
    "model.fit(X_train, y_train, epochs=10, validation_data=[X_val, y_val], callbacks=[early_stop])\n",
    "result = model.evaluate(X_test, y_test)\n",
    "print('Accuracy (test set): {}'.format(result[1]))"
   ]
  },
  {
   "cell_type": "code",
   "execution_count": 99,
   "metadata": {},
   "outputs": [],
   "source": [
    "model.save_weights(\"lstm_100_units.hdf5\")"
   ]
  },
  {
   "cell_type": "code",
   "execution_count": 106,
   "metadata": {},
   "outputs": [],
   "source": [
    "y_pred = model.predict(X_test)"
   ]
  },
  {
   "cell_type": "markdown",
   "metadata": {},
   "source": [
    "<h2>Plotando Matriz de Confusão</h2>"
   ]
  },
  {
   "cell_type": "code",
   "execution_count": 102,
   "metadata": {},
   "outputs": [
    {
     "data": {
      "image/png": "[encoded data removed]",
      "text/plain": [
       "<Figure size 432x288 with 2 Axes>"
      ]
     },
     "metadata": {},
     "output_type": "display_data"
    }
   ],
   "source": [
    "class_names = ['negativo', 'positivo']\n",
    "\n",
    "cnf_matrix = confusion_matrix(np.argmax(y_test, axis=1), np.argmax(y_pred, axis=1))\n",
    "np.set_printoptions(precision=2)\n",
    "\n",
    "plt.figure()\n",
    "plot_confusion_matrix(cnf_matrix, classes=class_names, normalize=True,\n",
    "                      title='Matriz de Confusão Normalizada')\n",
    "\n",
    "plt.show()"
   ]
  },
  {
   "cell_type": "markdown",
   "metadata": {},
   "source": [
    "<h2>Nova predição</h2>"
   ]
  },
  {
   "cell_type": "code",
   "execution_count": 104,
   "metadata": {},
   "outputs": [
    {
     "name": "stderr",
     "output_type": "stream",
     "text": [
      "C:\\Anaconda3\\lib\\re.py:212: FutureWarning: split() requires a non-empty pattern match.\n",
      "  return _compile(pattern, flags).split(string, maxsplit)\n"
     ]
    }
   ],
   "source": [
    "word_to_id = np.load('word_to_id.npy').tolist()\n",
    "\n",
    "new_sample = transform_review('the worst movie ever made', word_to_id, 100)"
   ]
  },
  {
   "cell_type": "code",
   "execution_count": 105,
   "metadata": {},
   "outputs": [
    {
     "name": "stdout",
     "output_type": "stream",
     "text": [
      "O review 'the worst movie ever made' foi considerado positivo com 85.44% de confiança\n"
     ]
    }
   ],
   "source": [
    "pred = model.predict(new_sample)[0]\n",
    "i = np.argmax(pred)\n",
    "sentiment = class_names[i]\n",
    "conf = np.round(pred[i] * 100, 2)\n",
    "\n",
    "\n",
    "print(\"O review 'the worst movie ever made' foi considerado \" + sentiment + \" com {}% de confiança\".format(conf))"
   ]
  }
 ],
 "metadata": {
  "kernelspec": {
   "display_name": "Python 3",
   "language": "python",
   "name": "python3"
  },
  "language_info": {
   "codemirror_mode": {
    "name": "ipython",
    "version": 3
   },
   "file_extension": ".py",
   "mimetype": "text/x-python",
   "name": "python",
   "nbconvert_exporter": "python",
   "pygments_lexer": "ipython3",
   "version": "3.7.5"
  }
 },
 "nbformat": 4,
 "nbformat_minor": 4
}
