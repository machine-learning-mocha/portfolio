{
 "cells": [
  {
   "cell_type": "code",
   "execution_count": 1,
   "metadata": {},
   "outputs": [
    {
     "name": "stderr",
     "output_type": "stream",
     "text": [
      "C:\\Anaconda3\\lib\\site-packages\\gensim\\utils.py:1209: UserWarning: detected Windows; aliasing chunkize to chunkize_serial\n",
      "  warnings.warn(\"detected Windows; aliasing chunkize to chunkize_serial\")\n"
     ]
    }
   ],
   "source": [
    "import logging\n",
    "import pandas as pd\n",
    "from nltk.corpus import stopwords\n",
    "from collections import defaultdict\n",
    "from gensim.corpora import Dictionary\n",
    "import gensim\n",
    "from gensim.models import TfidfModel"
   ]
  },
  {
   "cell_type": "code",
   "execution_count": 2,
   "metadata": {},
   "outputs": [],
   "source": [
    "# logging.basicConfig(format='%(asctime)s : %(levelname)s : %(message)s', level=logging.INFO)"
   ]
  },
  {
   "cell_type": "code",
   "execution_count": 3,
   "metadata": {},
   "outputs": [
    {
     "name": "stderr",
     "output_type": "stream",
     "text": [
      "b'Skipping line 2401: expected 11 fields, saw 21\\nSkipping line 2800: expected 11 fields, saw 21\\nSkipping line 5297: expected 11 fields, saw 12\\nSkipping line 5299: expected 11 fields, saw 12\\nSkipping line 5300: expected 11 fields, saw 12\\nSkipping line 5301: expected 11 fields, saw 12\\n'\n",
      "b'Skipping line 41589: expected 4 fields, saw 11\\nSkipping line 51628: expected 4 fields, saw 7\\nSkipping line 114465: expected 4 fields, saw 5\\n'\n",
      "b'Skipping line 142496: expected 4 fields, saw 8\\nSkipping line 189732: expected 4 fields, saw 6\\nSkipping line 245218: expected 4 fields, saw 7\\n'\n",
      "b'Skipping line 388430: expected 4 fields, saw 5\\n'\n",
      "C:\\Anaconda3\\lib\\site-packages\\IPython\\core\\interactiveshell.py:2785: DtypeWarning: Columns (2,3) have mixed types. Specify dtype option on import or set low_memory=False.\n",
      "  interactivity=interactivity, compiler=compiler, result=result)\n"
     ]
    }
   ],
   "source": [
    "videos = pd.read_csv('data/USvideos.csv',encoding='utf8',error_bad_lines=False);#opening the file USvideos\n",
    "comm = pd.read_csv('data/UScomments.csv',encoding='utf8',error_bad_lines=False);#opening the file UScomments"
   ]
  },
  {
   "cell_type": "code",
   "execution_count": 4,
   "metadata": {},
   "outputs": [],
   "source": [
    "stop_words = set(stopwords.words('english'))\n",
    "# TODO: better clean number, punctuation, (emoji (?))\n",
    "texts = [[word for word in str(document).lower().split() if word not in stop_words]\n",
    "         for document in comm.comment_text.tolist()]\n",
    "\n",
    "frequency = defaultdict(int)\n",
    "for text in texts:\n",
    "    for token in text:\n",
    "        frequency[token] += 1\n",
    "\n",
    "texts = [[token for token in text if frequency[token] > 1]\n",
    "         for text in texts]"
   ]
  },
  {
   "cell_type": "code",
   "execution_count": 5,
   "metadata": {},
   "outputs": [],
   "source": [
    "dct = Dictionary(texts)"
   ]
  },
  {
   "cell_type": "code",
   "execution_count": 6,
   "metadata": {},
   "outputs": [],
   "source": [
    "corpus = [dct.doc2bow(line) for line in texts]"
   ]
  },
  {
   "cell_type": "code",
   "execution_count": 7,
   "metadata": {},
   "outputs": [],
   "source": [
    "model = TfidfModel(corpus)"
   ]
  },
  {
   "cell_type": "code",
   "execution_count": 8,
   "metadata": {},
   "outputs": [],
   "source": [
    "id2word = gensim.corpora.Dictionary.load_from_text('./EN_comm.txt')"
   ]
  },
  {
   "cell_type": "code",
   "execution_count": 9,
   "metadata": {},
   "outputs": [],
   "source": [
    "lsi = gensim.models.lsimodel.LsiModel(corpus=corpus, id2word=id2word, num_topics=10)"
   ]
  },
  {
   "cell_type": "code",
   "execution_count": 10,
   "metadata": {},
   "outputs": [
    {
     "data": {
      "text/plain": [
       "[(0,\n",
       "  '1.000*\"soap\" + 0.000*\"really\" + 0.000*\"like\" + 0.000*\"black\" + 0.000*\"people\" + 0.000*\"would\" + 0.000*\"video\" + 0.000*\"white\" + 0.000*\"get\" + 0.000*\"love\"'),\n",
       " (1,\n",
       "  '1.000*\"nigger\" + 0.001*\"niggers\" + 0.000*\"like\" + 0.000*\"people\" + 0.000*\"&\" + 0.000*\"=\" + 0.000*\"i\\'m\" + 0.000*\"nigga\" + 0.000*\"get\" + 0.000*\"would\"'),\n",
       " (2,\n",
       "  '-0.970*\"wa-ha\" + -0.242*\"wa-hawa-ha\" + 0.000*\"world\" + -0.000*\"omg\" + -0.000*\"that\\'s\" + 0.000*\"always\" + -0.000*\"guys\" + -0.000*\"trump\" + 0.000*\"trending\" + 0.000*\"old\"'),\n",
       " (3,\n",
       "  '1.000*\"best,\" + 0.001*\"best\" + 0.001*\"*the\" + 0.000*\"like\" + 0.000*\"love\" + 0.000*\"people\" + 0.000*\"one\" + 0.000*\"i\\'m\" + 0.000*\"get\" + 0.000*\"would\"'),\n",
       " (4,\n",
       "  '0.707*\"world\" + 0.707*\"around\" + 0.004*\"really\" + 0.001*\"like\" + 0.001*\"make\" + 0.001*\"one\" + 0.001*\"people\" + 0.001*\"jesus\" + 0.001*\"would\" + 0.001*\"know\"'),\n",
       " (5,\n",
       "  '0.451*\"giant\" + 0.450*\"philly\" + 0.449*\"steak\" + 0.443*\"make\" + 0.443*\"cheese\" + 0.009*\"really\" + 0.004*\"e\" + 0.004*\"cheesemake\" + 0.004*\"cheesmake\" + 0.002*\"like\"'),\n",
       " (6,\n",
       "  '0.707*\"scott\" + 0.707*\"travis\" + 0.001*\",\" + 0.000*\"like\" + 0.000*\"great\" + 0.000*\"really\" + -0.000*\"philly\" + -0.000*\"steak\" + -0.000*\"giant\" + 0.000*\"love\"'),\n",
       " (7,\n",
       "  '0.827*\"͡°\" + 0.413*\"͜ʖ\" + 0.311*\"(\" + 0.181*\")\\\\n\" + 0.087*\")\" + 0.077*\")\\\\n(\" + 0.042*\")(\" + 0.020*\")°\" + 0.008*\"))\\\\n\" + 0.005*\"\\\\n\"'),\n",
       " (8,\n",
       "  '1.000*\"rose\" + 0.001*\"really\" + 0.000*\"like\" + 0.000*\"would\" + 0.000*\"love\" + 0.000*\"inside\" + 0.000*\"people\" + 0.000*\"jesus\" + 0.000*\"know\" + 0.000*\"simulation\"'),\n",
       " (9,\n",
       "  '1.000*\"yeeeeeeeeeeeeee\" + 0.023*\"yeeeeeeeeeeeeeeyeeeeeeeeeeeeee\" + 0.002*\"#yiaytime\" + 0.002*\"dinosaurs\" + 0.000*\"would\" + 0.000*\"go\" + 0.000*\"really\" + 0.000*\"back\" + 0.000*\"one\" + 0.000*\"like\"')]"
      ]
     },
     "execution_count": 10,
     "metadata": {},
     "output_type": "execute_result"
    }
   ],
   "source": [
    "lsi.print_topics(10)"
   ]
  },
  {
   "cell_type": "code",
   "execution_count": 11,
   "metadata": {},
   "outputs": [],
   "source": [
    "lda = gensim.models.ldamodel.LdaModel(corpus=corpus, id2word=id2word, num_topics=10, update_every=1, chunksize=10000, passes=1)"
   ]
  },
  {
   "cell_type": "code",
   "execution_count": 12,
   "metadata": {},
   "outputs": [
    {
     "data": {
      "text/plain": [
       "[(0,\n",
       "  '0.080*\"love\" + 0.021*\"good\" + 0.020*\"song\" + 0.018*\"great\" + 0.016*\"u\" + 0.016*\"amazing\" + 0.014*\"video\" + 0.012*\"much\" + 0.011*\"make\" + 0.010*\"<3\"'),\n",
       " (1,\n",
       "  '0.014*\"trending\" + 0.009*\"go\" + 0.008*\"name\" + 0.008*\"cool\" + 0.007*\"play\" + 0.006*\"back\" + 0.006*\"game\" + 0.006*\"soap\" + 0.005*\"comment\" + 0.005*\"know\"'),\n",
       " (2,\n",
       "  '0.034*\"lol\" + 0.018*\"fuck\" + 0.017*\"trump\" + 0.008*\"wa-ha\" + 0.005*\"flag\" + 0.005*\"suck\" + 0.004*\"trash\" + 0.004*\"cancer\" + 0.004*\"she’s\" + 0.003*\"ass\"'),\n",
       " (3,\n",
       "  '0.009*\"get\" + 0.008*\"people\" + 0.008*\"us\" + 0.007*\"god\" + 0.005*\"one\" + 0.005*\"would\" + 0.005*\"world\" + 0.005*\"need\" + 0.004*\"take\" + 0.004*\"time\"'),\n",
       " (4,\n",
       "  '0.010*\"que\" + 0.010*\"i’m\" + 0.008*\"jesus\" + 0.008*\"de\" + 0.007*\"yes\" + 0.007*\"la\" + 0.005*\"!\" + 0.004*\"son\" + 0.004*\"rose\" + 0.004*\"review\"'),\n",
       " (5,\n",
       "  '0.021*\"best\" + 0.021*\"video\" + 0.017*\"love\" + 0.014*\"omg\" + 0.011*\"one\" + 0.011*\"new\" + 0.010*\"wait\" + 0.010*\"please\" + 0.009*\"music\" + 0.009*\"can\\'t\"'),\n",
       " (6,\n",
       "  '0.026*\"like\" + 0.013*\"i\\'m\" + 0.011*\"people\" + 0.010*\"know\" + 0.009*\"really\" + 0.009*\"would\" + 0.009*\"one\" + 0.008*\"think\" + 0.007*\"even\" + 0.007*\"get\"'),\n",
       " (7,\n",
       "  '0.014*\"cute\" + 0.009*\"beautiful\" + 0.007*\"dog\" + 0.006*\"❤\" + 0.005*\"taylor\" + 0.005*\":(\" + 0.005*\"cat\" + 0.004*\"&\" + 0.004*\"kelly\" + 0.004*\"fucking\"'),\n",
       " (8,\n",
       "  '0.017*\"like\" + 0.010*\"wow\" + 0.010*\"😂\" + 0.010*\".\" + 0.010*\"looks\" + 0.009*\"im\" + 0.008*\"thought\" + 0.008*\"anyone\" + 0.008*\"else\" + 0.008*\",\"'),\n",
       " (9,\n",
       "  '0.014*\"like\" + 0.010*\"would\" + 0.010*\"-\" + 0.007*\"sounds\" + 0.006*\"fake\" + 0.004*\"wtf\" + 0.004*\"could\" + 0.004*\"go\" + 0.004*\"harvey\" + 0.004*\"voice\"')]"
      ]
     },
     "execution_count": 12,
     "metadata": {},
     "output_type": "execute_result"
    }
   ],
   "source": [
    "lda.print_topics(20)"
   ]
  }
 ],
 "metadata": {
  "kernelspec": {
   "display_name": "Python 3",
   "language": "python",
   "name": "python3"
  },
  "language_info": {
   "codemirror_mode": {
    "name": "ipython",
    "version": 3
   },
   "file_extension": ".py",
   "mimetype": "text/x-python",
   "name": "python",
   "nbconvert_exporter": "python",
   "pygments_lexer": "ipython3",
   "version": "3.6.6"
  }
 },
 "nbformat": 4,
 "nbformat_minor": 2
}
