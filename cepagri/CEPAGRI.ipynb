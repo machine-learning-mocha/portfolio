{
 "cells": [
  {
   "cell_type": "markdown",
   "metadata": {},
   "source": [
    "# Weather analysis from [CEPAGRI](http://www.cpa.unicamp.br/)<sup>[1](#fn1)</sup>"
   ]
  },
  {
   "cell_type": "markdown",
   "metadata": {},
   "source": [
    "## Imports"
   ]
  },
  {
   "cell_type": "code",
   "execution_count": 1,
   "metadata": {},
   "outputs": [],
   "source": [
    "import pandas as pd\n",
    "from pandas.plotting import register_matplotlib_converters\n",
    "register_matplotlib_converters()\n",
    "import numpy as np\n",
    "import requests\n",
    "import matplotlib.pyplot as plt\n",
    "import matplotlib.colors as colors\n",
    "import matplotlib.cm as cmx\n",
    "%matplotlib inline\n",
    "plt.rcParams['figure.figsize'] = [19, 9]\n",
    "import datetime"
   ]
  },
  {
   "cell_type": "markdown",
   "metadata": {},
   "source": [
    "## Load file"
   ]
  },
  {
   "cell_type": "code",
   "execution_count": 2,
   "metadata": {},
   "outputs": [],
   "source": [
    "file_handler = 'cepagri.csv'\n",
    "#url = 'http://www.ic.unicamp.br/~zanoni/cepagri/' + file_handler\n",
    "#r = requests.get(url, allow_redirects=True)\n",
    "#open('data/' + file_handler, 'wb').write(r.content)"
   ]
  },
  {
   "cell_type": "code",
   "execution_count": 3,
   "metadata": {},
   "outputs": [
    {
     "name": "stderr",
     "output_type": "stream",
     "text": [
      "/anaconda3/lib/python3.7/site-packages/IPython/core/interactiveshell.py:3058: DtypeWarning: Columns (1) have mixed types. Specify dtype option on import or set low_memory=False.\n",
      "  interactivity=interactivity, compiler=compiler, result=result)\n"
     ]
    }
   ],
   "source": [
    "data = pd.read_csv('data/' + file_handler, sep=';', index_col=False)"
   ]
  },
  {
   "cell_type": "code",
   "execution_count": 4,
   "metadata": {},
   "outputs": [],
   "source": [
    "data.columns = ['date', 'temperature', 'wind', 'humidity', 'sensation']"
   ]
  },
  {
   "cell_type": "code",
   "execution_count": 5,
   "metadata": {},
   "outputs": [
    {
     "data": {
      "text/html": [
       "<div>\n",
       "<style scoped>\n",
       "    .dataframe tbody tr th:only-of-type {\n",
       "        vertical-align: middle;\n",
       "    }\n",
       "\n",
       "    .dataframe tbody tr th {\n",
       "        vertical-align: top;\n",
       "    }\n",
       "\n",
       "    .dataframe thead th {\n",
       "        text-align: right;\n",
       "    }\n",
       "</style>\n",
       "<table border=\"1\" class=\"dataframe\">\n",
       "  <thead>\n",
       "    <tr style=\"text-align: right;\">\n",
       "      <th></th>\n",
       "      <th>date</th>\n",
       "      <th>temperature</th>\n",
       "      <th>wind</th>\n",
       "      <th>humidity</th>\n",
       "      <th>sensation</th>\n",
       "    </tr>\n",
       "  </thead>\n",
       "  <tbody>\n",
       "    <tr>\n",
       "      <th>0</th>\n",
       "      <td>02/03/2014-19:18</td>\n",
       "      <td>23.4</td>\n",
       "      <td>59.1</td>\n",
       "      <td>77.9</td>\n",
       "      <td>22.3</td>\n",
       "    </tr>\n",
       "    <tr>\n",
       "      <th>1</th>\n",
       "      <td>02/03/2014-19:28</td>\n",
       "      <td>23.2</td>\n",
       "      <td>56.7</td>\n",
       "      <td>78.9</td>\n",
       "      <td>22.1</td>\n",
       "    </tr>\n",
       "    <tr>\n",
       "      <th>2</th>\n",
       "      <td>02/03/2014-19:38</td>\n",
       "      <td>23.0</td>\n",
       "      <td>55.4</td>\n",
       "      <td>79.2</td>\n",
       "      <td>21.9</td>\n",
       "    </tr>\n",
       "    <tr>\n",
       "      <th>3</th>\n",
       "      <td>02/03/2014-19:48</td>\n",
       "      <td>22.8</td>\n",
       "      <td>52.6</td>\n",
       "      <td>79.7</td>\n",
       "      <td>21.7</td>\n",
       "    </tr>\n",
       "    <tr>\n",
       "      <th>4</th>\n",
       "      <td>02/03/2014-19:58</td>\n",
       "      <td>22.6</td>\n",
       "      <td>62.6</td>\n",
       "      <td>80.7</td>\n",
       "      <td>21.5</td>\n",
       "    </tr>\n",
       "  </tbody>\n",
       "</table>\n",
       "</div>"
      ],
      "text/plain": [
       "               date temperature  wind  humidity  sensation\n",
       "0  02/03/2014-19:18        23.4  59.1      77.9       22.3\n",
       "1  02/03/2014-19:28        23.2  56.7      78.9       22.1\n",
       "2  02/03/2014-19:38        23.0  55.4      79.2       21.9\n",
       "3  02/03/2014-19:48        22.8  52.6      79.7       21.7\n",
       "4  02/03/2014-19:58        22.6  62.6      80.7       21.5"
      ]
     },
     "execution_count": 5,
     "metadata": {},
     "output_type": "execute_result"
    }
   ],
   "source": [
    "data.head()"
   ]
  },
  {
   "cell_type": "markdown",
   "metadata": {},
   "source": [
    "## Data cleaning"
   ]
  },
  {
   "cell_type": "markdown",
   "metadata": {},
   "source": [
    "First, we'll deal with `na`values. Let's simple remove it"
   ]
  },
  {
   "cell_type": "code",
   "execution_count": 6,
   "metadata": {},
   "outputs": [
    {
     "data": {
      "text/plain": [
       "True"
      ]
     },
     "execution_count": 6,
     "metadata": {},
     "output_type": "execute_result"
    }
   ],
   "source": [
    "data.isnull().values.any()"
   ]
  },
  {
   "cell_type": "code",
   "execution_count": 7,
   "metadata": {},
   "outputs": [
    {
     "data": {
      "text/plain": [
       "date              0\n",
       "temperature       0\n",
       "wind           2324\n",
       "humidity       2324\n",
       "sensation      2324\n",
       "dtype: int64"
      ]
     },
     "execution_count": 7,
     "metadata": {},
     "output_type": "execute_result"
    }
   ],
   "source": [
    "data.isnull().sum()"
   ]
  },
  {
   "cell_type": "code",
   "execution_count": 8,
   "metadata": {},
   "outputs": [],
   "source": [
    "data = data.dropna()"
   ]
  },
  {
   "cell_type": "code",
   "execution_count": 9,
   "metadata": {},
   "outputs": [
    {
     "data": {
      "text/html": [
       "<div>\n",
       "<style scoped>\n",
       "    .dataframe tbody tr th:only-of-type {\n",
       "        vertical-align: middle;\n",
       "    }\n",
       "\n",
       "    .dataframe tbody tr th {\n",
       "        vertical-align: top;\n",
       "    }\n",
       "\n",
       "    .dataframe thead th {\n",
       "        text-align: right;\n",
       "    }\n",
       "</style>\n",
       "<table border=\"1\" class=\"dataframe\">\n",
       "  <thead>\n",
       "    <tr style=\"text-align: right;\">\n",
       "      <th></th>\n",
       "      <th>wind</th>\n",
       "      <th>humidity</th>\n",
       "      <th>sensation</th>\n",
       "    </tr>\n",
       "  </thead>\n",
       "  <tbody>\n",
       "    <tr>\n",
       "      <th>count</th>\n",
       "      <td>294781.000000</td>\n",
       "      <td>294781.000000</td>\n",
       "      <td>294781.000000</td>\n",
       "    </tr>\n",
       "    <tr>\n",
       "      <th>mean</th>\n",
       "      <td>28.989507</td>\n",
       "      <td>70.049357</td>\n",
       "      <td>19.505640</td>\n",
       "    </tr>\n",
       "    <tr>\n",
       "      <th>std</th>\n",
       "      <td>15.779359</td>\n",
       "      <td>19.184172</td>\n",
       "      <td>6.407524</td>\n",
       "    </tr>\n",
       "    <tr>\n",
       "      <th>min</th>\n",
       "      <td>0.000000</td>\n",
       "      <td>0.000000</td>\n",
       "      <td>-8.200000</td>\n",
       "    </tr>\n",
       "    <tr>\n",
       "      <th>25%</th>\n",
       "      <td>17.300000</td>\n",
       "      <td>56.800000</td>\n",
       "      <td>16.100000</td>\n",
       "    </tr>\n",
       "    <tr>\n",
       "      <th>50%</th>\n",
       "      <td>25.000000</td>\n",
       "      <td>73.200000</td>\n",
       "      <td>19.800000</td>\n",
       "    </tr>\n",
       "    <tr>\n",
       "      <th>75%</th>\n",
       "      <td>38.400000</td>\n",
       "      <td>85.200000</td>\n",
       "      <td>23.800000</td>\n",
       "    </tr>\n",
       "    <tr>\n",
       "      <th>max</th>\n",
       "      <td>143.600000</td>\n",
       "      <td>100.000000</td>\n",
       "      <td>99.900000</td>\n",
       "    </tr>\n",
       "  </tbody>\n",
       "</table>\n",
       "</div>"
      ],
      "text/plain": [
       "                wind       humidity      sensation\n",
       "count  294781.000000  294781.000000  294781.000000\n",
       "mean       28.989507      70.049357      19.505640\n",
       "std        15.779359      19.184172       6.407524\n",
       "min         0.000000       0.000000      -8.200000\n",
       "25%        17.300000      56.800000      16.100000\n",
       "50%        25.000000      73.200000      19.800000\n",
       "75%        38.400000      85.200000      23.800000\n",
       "max       143.600000     100.000000      99.900000"
      ]
     },
     "execution_count": 9,
     "metadata": {},
     "output_type": "execute_result"
    }
   ],
   "source": [
    "data.describe()"
   ]
  },
  {
   "cell_type": "markdown",
   "metadata": {},
   "source": [
    "Now, let's remove spurious data."
   ]
  },
  {
   "cell_type": "code",
   "execution_count": 10,
   "metadata": {},
   "outputs": [],
   "source": [
    "data = data[data.sensation != 99.9]"
   ]
  },
  {
   "cell_type": "code",
   "execution_count": 11,
   "metadata": {},
   "outputs": [
    {
     "data": {
      "text/plain": [
       "date            object\n",
       "temperature     object\n",
       "wind           float64\n",
       "humidity       float64\n",
       "sensation      float64\n",
       "dtype: object"
      ]
     },
     "execution_count": 11,
     "metadata": {},
     "output_type": "execute_result"
    }
   ],
   "source": [
    "data.dtypes"
   ]
  },
  {
   "cell_type": "code",
   "execution_count": 12,
   "metadata": {},
   "outputs": [],
   "source": [
    "data.date = pd.to_datetime(data.date, format='%d/%m/%Y-%H:%M')\n",
    "data.temperature = pd.to_numeric(data.temperature, errors='coerce')\n",
    "data['year_month'] = data['date'].apply(lambda s: datetime.date(s.year, s.month, 1))\n",
    "data.year_month = data.year_month.astype('str')"
   ]
  },
  {
   "cell_type": "code",
   "execution_count": 13,
   "metadata": {},
   "outputs": [
    {
     "data": {
      "text/plain": [
       "date           datetime64[ns]\n",
       "temperature           float64\n",
       "wind                  float64\n",
       "humidity              float64\n",
       "sensation             float64\n",
       "year_month             object\n",
       "dtype: object"
      ]
     },
     "execution_count": 13,
     "metadata": {},
     "output_type": "execute_result"
    }
   ],
   "source": [
    "data.dtypes"
   ]
  },
  {
   "cell_type": "code",
   "execution_count": 14,
   "metadata": {},
   "outputs": [],
   "source": [
    "data = data.loc[(data.date < '2018-01-01') & (data.date >= '2015-1-1')]"
   ]
  },
  {
   "cell_type": "code",
   "execution_count": 15,
   "metadata": {},
   "outputs": [
    {
     "data": {
      "text/html": [
       "<div>\n",
       "<style scoped>\n",
       "    .dataframe tbody tr th:only-of-type {\n",
       "        vertical-align: middle;\n",
       "    }\n",
       "\n",
       "    .dataframe tbody tr th {\n",
       "        vertical-align: top;\n",
       "    }\n",
       "\n",
       "    .dataframe thead th {\n",
       "        text-align: right;\n",
       "    }\n",
       "</style>\n",
       "<table border=\"1\" class=\"dataframe\">\n",
       "  <thead>\n",
       "    <tr style=\"text-align: right;\">\n",
       "      <th></th>\n",
       "      <th>date</th>\n",
       "      <th>temperature</th>\n",
       "      <th>wind</th>\n",
       "      <th>humidity</th>\n",
       "      <th>sensation</th>\n",
       "      <th>year_month</th>\n",
       "    </tr>\n",
       "  </thead>\n",
       "  <tbody>\n",
       "    <tr>\n",
       "      <th>42081</th>\n",
       "      <td>2015-01-01 00:00:00</td>\n",
       "      <td>22.7</td>\n",
       "      <td>22.2</td>\n",
       "      <td>92.2</td>\n",
       "      <td>21.6</td>\n",
       "      <td>2015-01-01</td>\n",
       "    </tr>\n",
       "    <tr>\n",
       "      <th>42083</th>\n",
       "      <td>2015-01-01 00:20:00</td>\n",
       "      <td>22.6</td>\n",
       "      <td>23.1</td>\n",
       "      <td>92.5</td>\n",
       "      <td>21.5</td>\n",
       "      <td>2015-01-01</td>\n",
       "    </tr>\n",
       "    <tr>\n",
       "      <th>42084</th>\n",
       "      <td>2015-01-01 00:30:00</td>\n",
       "      <td>22.7</td>\n",
       "      <td>23.1</td>\n",
       "      <td>92.0</td>\n",
       "      <td>21.6</td>\n",
       "      <td>2015-01-01</td>\n",
       "    </tr>\n",
       "    <tr>\n",
       "      <th>42085</th>\n",
       "      <td>2015-01-01 00:40:00</td>\n",
       "      <td>22.8</td>\n",
       "      <td>22.7</td>\n",
       "      <td>91.3</td>\n",
       "      <td>21.7</td>\n",
       "      <td>2015-01-01</td>\n",
       "    </tr>\n",
       "    <tr>\n",
       "      <th>42086</th>\n",
       "      <td>2015-01-01 00:50:00</td>\n",
       "      <td>22.7</td>\n",
       "      <td>22.3</td>\n",
       "      <td>91.6</td>\n",
       "      <td>21.6</td>\n",
       "      <td>2015-01-01</td>\n",
       "    </tr>\n",
       "    <tr>\n",
       "      <th>...</th>\n",
       "      <td>...</td>\n",
       "      <td>...</td>\n",
       "      <td>...</td>\n",
       "      <td>...</td>\n",
       "      <td>...</td>\n",
       "      <td>...</td>\n",
       "    </tr>\n",
       "    <tr>\n",
       "      <th>198134</th>\n",
       "      <td>2017-12-31 23:10:00</td>\n",
       "      <td>21.1</td>\n",
       "      <td>18.2</td>\n",
       "      <td>84.6</td>\n",
       "      <td>19.9</td>\n",
       "      <td>2017-12-01</td>\n",
       "    </tr>\n",
       "    <tr>\n",
       "      <th>198135</th>\n",
       "      <td>2017-12-31 23:20:00</td>\n",
       "      <td>21.1</td>\n",
       "      <td>20.2</td>\n",
       "      <td>84.7</td>\n",
       "      <td>19.9</td>\n",
       "      <td>2017-12-01</td>\n",
       "    </tr>\n",
       "    <tr>\n",
       "      <th>198136</th>\n",
       "      <td>2017-12-31 23:30:00</td>\n",
       "      <td>21.0</td>\n",
       "      <td>22.5</td>\n",
       "      <td>84.8</td>\n",
       "      <td>19.9</td>\n",
       "      <td>2017-12-01</td>\n",
       "    </tr>\n",
       "    <tr>\n",
       "      <th>198137</th>\n",
       "      <td>2017-12-31 23:40:00</td>\n",
       "      <td>21.0</td>\n",
       "      <td>18.4</td>\n",
       "      <td>84.8</td>\n",
       "      <td>19.8</td>\n",
       "      <td>2017-12-01</td>\n",
       "    </tr>\n",
       "    <tr>\n",
       "      <th>198138</th>\n",
       "      <td>2017-12-31 23:50:00</td>\n",
       "      <td>21.0</td>\n",
       "      <td>18.0</td>\n",
       "      <td>84.7</td>\n",
       "      <td>19.8</td>\n",
       "      <td>2017-12-01</td>\n",
       "    </tr>\n",
       "  </tbody>\n",
       "</table>\n",
       "<p>154120 rows × 6 columns</p>\n",
       "</div>"
      ],
      "text/plain": [
       "                      date  temperature  wind  humidity  sensation  year_month\n",
       "42081  2015-01-01 00:00:00         22.7  22.2      92.2       21.6  2015-01-01\n",
       "42083  2015-01-01 00:20:00         22.6  23.1      92.5       21.5  2015-01-01\n",
       "42084  2015-01-01 00:30:00         22.7  23.1      92.0       21.6  2015-01-01\n",
       "42085  2015-01-01 00:40:00         22.8  22.7      91.3       21.7  2015-01-01\n",
       "42086  2015-01-01 00:50:00         22.7  22.3      91.6       21.6  2015-01-01\n",
       "...                    ...          ...   ...       ...        ...         ...\n",
       "198134 2017-12-31 23:10:00         21.1  18.2      84.6       19.9  2017-12-01\n",
       "198135 2017-12-31 23:20:00         21.1  20.2      84.7       19.9  2017-12-01\n",
       "198136 2017-12-31 23:30:00         21.0  22.5      84.8       19.9  2017-12-01\n",
       "198137 2017-12-31 23:40:00         21.0  18.4      84.8       19.8  2017-12-01\n",
       "198138 2017-12-31 23:50:00         21.0  18.0      84.7       19.8  2017-12-01\n",
       "\n",
       "[154120 rows x 6 columns]"
      ]
     },
     "execution_count": 15,
     "metadata": {},
     "output_type": "execute_result"
    }
   ],
   "source": [
    "data"
   ]
  },
  {
   "cell_type": "code",
   "execution_count": 16,
   "metadata": {},
   "outputs": [
    {
     "data": {
      "text/plain": [
       "[<matplotlib.lines.Line2D at 0x1216dfad0>]"
      ]
     },
     "execution_count": 16,
     "metadata": {},
     "output_type": "execute_result"
    },
    {
     "data": {
      "image/png": "[encoded data removed]",
      "text/plain": [
       "<Figure size 432x288 with 1 Axes>"
      ]
     },
     "metadata": {
      "needs_background": "light"
     },
     "output_type": "display_data"
    }
   ],
   "source": [
    "plt.plot(data.date, data.temperature)\n",
    "plt.plot(data.date, data.sensation)"
   ]
  },
  {
   "cell_type": "markdown",
   "metadata": {},
   "source": [
    "## Psychrometrics analysis"
   ]
  },
  {
   "cell_type": "markdown",
   "metadata": {},
   "source": [
    "Based on [[2]](#fn2), we have: \n",
    "\n",
    "| Relative Humidity (in %) | State |\n",
    "|--------------------------|-----------|\n",
    "| 0 to 11.9 | Emergency |\n",
    "| 12 to 19.9 | Alert |\n",
    "| 20 to 29.9 | Attention |\n",
    "\n",
    "Let's display the frequency of days with these characteristics:"
   ]
  },
  {
   "cell_type": "code",
   "execution_count": 17,
   "metadata": {},
   "outputs": [],
   "source": [
    "data['humidity_level'] = 'NORMAL'\n",
    "data.loc[data['humidity'] < 30, 'humidity_level'] = 'WARNING'\n",
    "data.loc[data['humidity'] < 20, 'humidity_level'] = 'ALERT'\n",
    "data.loc[data['humidity'] < 12, 'humidity_level'] = 'EMERGENCY'\n",
    "data.humidity_level = data.humidity_level.astype('category')"
   ]
  },
  {
   "cell_type": "code",
   "execution_count": 18,
   "metadata": {},
   "outputs": [],
   "source": [
    "num_categories = len(set(data['humidity_level']))\n",
    "colors = [cmx.autumn(float(i)/num_categories) for i in data.humidity_level.cat.codes]"
   ]
  },
  {
   "cell_type": "code",
   "execution_count": 19,
   "metadata": {},
   "outputs": [
    {
     "data": {
      "text/plain": [
       "<matplotlib.collections.PathCollection at 0x126900150>"
      ]
     },
     "execution_count": 19,
     "metadata": {},
     "output_type": "execute_result"
    },
    {
     "data": {
      "image/png": "[encoded data removed]",
      "text/plain": [
       "<Figure size 432x288 with 1 Axes>"
      ]
     },
     "metadata": {
      "needs_background": "light"
     },
     "output_type": "display_data"
    }
   ],
   "source": [
    "plt.scatter('date', 'humidity', data = data, c = cmx.Paired(data.humidity_level.cat.codes), alpha = .6, s = 3)"
   ]
  },
  {
   "cell_type": "markdown",
   "metadata": {},
   "source": [
    "## Beaufort scale"
   ]
  },
  {
   "cell_type": "markdown",
   "metadata": {},
   "source": [
    "| Degree |     Label      | Velocity(km/h) |\n",
    "| :--- | :-----------------: | ---------------: |\n",
    "| 0    |        Calm         | <1              |\n",
    "| 1    |       Light air     | 1 a 5            |\n",
    "| 2    |     Light breeze    | 6 a 11           |\n",
    "| 3    |     Gentle breeze\t | 12 a 19          |\n",
    "| 4    |   Moderate breeze   | 20 a 28          |\n",
    "| 5    |     Fresh breeze    | 29 a 38          |\n",
    "| 6    |    Strong breeze    | 39 a 49          |\n",
    "| 7    |     High wind       | 50 a 61          |\n",
    "| 8    |      Fresh gale     | 62 a 74          |\n",
    "| 9    | Strong/severe gale\t | 75 a 88          |\n",
    "| 10   |     Storm           | 89 a 102         |\n",
    "| 11   | Violent Storm       | 103 a 117        |\n",
    "| 12   |   Hurricane force   | \\>118            |"
   ]
  },
  {
   "cell_type": "code",
   "execution_count": 20,
   "metadata": {},
   "outputs": [],
   "source": [
    "data['beaufort_scale'] = 'HURRICANE_FORCE'\n",
    "data.loc[data['wind'] < 118, 'beaufort_scale'] = 'VIOLENT_STORM'\n",
    "data.loc[data['wind'] < 103, 'beaufort_scale'] = 'STORM'\n",
    "data.loc[data['wind'] < 89, 'beaufort_scale'] = 'STRONG_SEVERE_GALE'\n",
    "data.loc[data['wind'] < 75, 'beaufort_scale'] = 'FRESH_GALE'\n",
    "data.loc[data['wind'] < 62, 'beaufort_scale'] = 'HIGH_WIND'\n",
    "data.loc[data['wind'] < 50, 'beaufort_scale'] = 'STRONG_BREEZE'\n",
    "data.loc[data['wind'] < 39, 'beaufort_scale'] = 'FRESH_BREEZE'\n",
    "data.loc[data['wind'] < 29, 'beaufort_scale'] = 'MODERATE_BREEZE'\n",
    "data.loc[data['wind'] < 20, 'beaufort_scale'] = 'GENTLE_BREEZE'\n",
    "data.loc[data['wind'] < 12, 'beaufort_scale'] = 'LIGHT_BREEZE'\n",
    "data.loc[data['wind'] < 6, 'beaufort_scale'] = 'LIGHT_AIR'\n",
    "data.loc[data['wind'] < 1, 'beaufort_scale'] = 'CALM'\n",
    "data.beaufort_scale = data.beaufort_scale.astype('category')"
   ]
  },
  {
   "cell_type": "code",
   "execution_count": 21,
   "metadata": {},
   "outputs": [
    {
     "data": {
      "image/png": "[encoded data removed]",
      "text/plain": [
       "<Figure size 432x288 with 1 Axes>"
      ]
     },
     "metadata": {
      "needs_background": "light"
     },
     "output_type": "display_data"
    }
   ],
   "source": [
    "plt.scatter('date', 'wind', data = data, c = cmx.Paired(data.beaufort_scale.cat.codes), alpha = .6, s = 10)\n",
    "#            label = set(data.beaufort_scale.cat.categories))\n",
    "plt.legend()\n",
    "plt.grid(True)\n",
    "plt.show()"
   ]
  },
  {
   "cell_type": "code",
   "execution_count": 26,
   "metadata": {},
   "outputs": [
    {
     "ename": "TypeError",
     "evalue": "bar() missing 1 required positional argument: 'height'",
     "output_type": "error",
     "traceback": [
      "\u001b[0;31m---------------------------------------------------------------------------\u001b[0m",
      "\u001b[0;31mTypeError\u001b[0m                                 Traceback (most recent call last)",
      "\u001b[0;32m<ipython-input-26-12c2db3f12cd>\u001b[0m in \u001b[0;36m<module>\u001b[0;34m\u001b[0m\n\u001b[0;32m----> 1\u001b[0;31m \u001b[0mplt\u001b[0m\u001b[0;34m.\u001b[0m\u001b[0mbar\u001b[0m\u001b[0;34m(\u001b[0m\u001b[0mdata\u001b[0m\u001b[0;34m.\u001b[0m\u001b[0mbeaufort_scale\u001b[0m\u001b[0;34m)\u001b[0m\u001b[0;34m\u001b[0m\u001b[0;34m\u001b[0m\u001b[0m\n\u001b[0m",
      "\u001b[0;31mTypeError\u001b[0m: bar() missing 1 required positional argument: 'height'"
     ]
    }
   ],
   "source": [
    "data.head()"
   ]
  },
  {
   "cell_type": "code",
   "execution_count": 25,
   "metadata": {},
   "outputs": [
    {
     "data": {
      "text/plain": [
       "42081     2015-01-01 00:00:00\n",
       "42083     2015-01-01 00:20:00\n",
       "42084     2015-01-01 00:30:00\n",
       "42085     2015-01-01 00:40:00\n",
       "42086     2015-01-01 00:50:00\n",
       "                 ...         \n",
       "198134    2017-12-31 23:10:00\n",
       "198135    2017-12-31 23:20:00\n",
       "198136    2017-12-31 23:30:00\n",
       "198137    2017-12-31 23:40:00\n",
       "198138    2017-12-31 23:50:00\n",
       "Name: date, Length: 154120, dtype: object"
      ]
     },
     "execution_count": 25,
     "metadata": {},
     "output_type": "execute_result"
    }
   ],
   "source": [
    "data.date.astype('str')"
   ]
  },
  {
   "cell_type": "markdown",
   "metadata": {},
   "source": [
    "----\n",
    "\n",
    "## References\n",
    "* https://matplotlib.org/examples/color/colormaps_reference.html\n",
    "* https://towardsdatascience.com/an-end-to-end-project-on-time-series-analysis-and-forecasting-with-python-4835e6bf050b\n",
    "* https://pandas.pydata.org/pandas-docs/stable/user_guide/reshaping.html"
   ]
  },
  {
   "cell_type": "markdown",
   "metadata": {},
   "source": [
    "----\n",
    "## Notes"
   ]
  },
  {
   "cell_type": "markdown",
   "metadata": {},
   "source": [
    "<a name=\"fn1\">1</a>: Centro de Pesquisas Meteorológicas e Climáticas Aplicadas à Agricultura. Está instalado no prédio da Embrapa Infomática Agropecuária, localizado no Campus da UNICAMP\n",
    "\n",
    "<a name=\"fn2\">2</a>: https://www.cgesp.org/v3/umidade-relativa-do-ar.jsp"
   ]
  }
 ],
 "metadata": {
  "kernelspec": {
   "display_name": "Python 3",
   "language": "python",
   "name": "python3"
  },
  "language_info": {
   "codemirror_mode": {
    "name": "ipython",
    "version": 3
   },
   "file_extension": ".py",
   "mimetype": "text/x-python",
   "name": "python",
   "nbconvert_exporter": "python",
   "pygments_lexer": "ipython3",
   "version": "3.7.5"
  }
 },
 "nbformat": 4,
 "nbformat_minor": 4
}
