{
 "cells": [
  {
   "cell_type": "code",
   "execution_count": 38,
   "metadata": {},
   "outputs": [],
   "source": [
    "# https://www.analyticsvidhya.com/blog/2018/04/guide-sequence-prediction-using-compact-prediction-tree-python/\n",
    "# https://cpt.readthedocs.io/en/latest/index.html"
   ]
  },
  {
   "cell_type": "code",
   "execution_count": 1,
   "metadata": {},
   "outputs": [],
   "source": [
    "from CPT import *"
   ]
  },
  {
   "cell_type": "code",
   "execution_count": 2,
   "metadata": {},
   "outputs": [],
   "source": [
    "model = CPT()"
   ]
  },
  {
   "cell_type": "code",
   "execution_count": 4,
   "metadata": {},
   "outputs": [
    {
     "data": {
      "text/plain": [
       "'\\n#Importing everything from the CPT file\\nfrom CPT import *\\n\\n#Creating an object of the CPT Class\\nmodel = CPT()\\n\\n#Reading train and test file and converting them to data and target.\\ndata, target = model.load_files(“./data/train.csv”,”./data/test.csv”)\\n\\n#Training the model\\nmodel.train(data)\\n\\n#Making predictions on the test dataset\\npredictions = model.predict(data,target,5,1)\\n'"
      ]
     },
     "execution_count": 4,
     "metadata": {},
     "output_type": "execute_result"
    }
   ],
   "source": [
    "\"\"\"\n",
    "#Importing everything from the CPT file\n",
    "from CPT import *\n",
    "\n",
    "#Creating an object of the CPT Class\n",
    "model = CPT()\n",
    "\n",
    "#Reading train and test file and converting them to data and target.\n",
    "data, target = model.load_files(“./data/train.csv”,”./data/test.csv”)\n",
    "\n",
    "#Training the model\n",
    "model.train(data)\n",
    "\n",
    "#Making predictions on the test dataset\n",
    "predictions = model.predict(data,target,5,1)\n",
    "\"\"\""
   ]
  }
 ],
 "metadata": {
  "kernelspec": {
   "display_name": "Python 3",
   "language": "python",
   "name": "python3"
  },
  "language_info": {
   "codemirror_mode": {
    "name": "ipython",
    "version": 3
   },
   "file_extension": ".py",
   "mimetype": "text/x-python",
   "name": "python",
   "nbconvert_exporter": "python",
   "pygments_lexer": "ipython3",
   "version": "3.7.5"
  }
 },
 "nbformat": 4,
 "nbformat_minor": 4
}
