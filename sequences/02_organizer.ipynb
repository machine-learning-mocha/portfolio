{
 "cells": [
  {
   "cell_type": "code",
   "execution_count": 1,
   "metadata": {},
   "outputs": [],
   "source": [
    "import pandas as pd\n",
    "import numpy as np\n",
    "import csv"
   ]
  },
  {
   "cell_type": "code",
   "execution_count": 2,
   "metadata": {},
   "outputs": [],
   "source": [
    "df = pd.read_csv('sanitized.csv', index_col=0)"
   ]
  },
  {
   "cell_type": "code",
   "execution_count": 3,
   "metadata": {},
   "outputs": [
    {
     "data": {
      "text/html": [
       "<div>\n",
       "<style scoped>\n",
       "    .dataframe tbody tr th:only-of-type {\n",
       "        vertical-align: middle;\n",
       "    }\n",
       "\n",
       "    .dataframe tbody tr th {\n",
       "        vertical-align: top;\n",
       "    }\n",
       "\n",
       "    .dataframe thead th {\n",
       "        text-align: right;\n",
       "    }\n",
       "</style>\n",
       "<table border=\"1\" class=\"dataframe\">\n",
       "  <thead>\n",
       "    <tr style=\"text-align: right;\">\n",
       "      <th></th>\n",
       "      <th>SESSAO</th>\n",
       "      <th>COD_TRANS</th>\n",
       "      <th>URL</th>\n",
       "      <th>DATA</th>\n",
       "    </tr>\n",
       "  </thead>\n",
       "  <tbody>\n",
       "    <tr>\n",
       "      <th>0</th>\n",
       "      <td>sessao_0</td>\n",
       "      <td>transacao_0</td>\n",
       "      <td>url_0</td>\n",
       "      <td>20190910092545</td>\n",
       "    </tr>\n",
       "    <tr>\n",
       "      <th>1</th>\n",
       "      <td>sessao_0</td>\n",
       "      <td>transacao_1</td>\n",
       "      <td>url_0</td>\n",
       "      <td>20190910092603</td>\n",
       "    </tr>\n",
       "    <tr>\n",
       "      <th>2</th>\n",
       "      <td>sessao_0</td>\n",
       "      <td>transacao_0</td>\n",
       "      <td>url_0</td>\n",
       "      <td>20190910092603</td>\n",
       "    </tr>\n",
       "    <tr>\n",
       "      <th>3</th>\n",
       "      <td>sessao_0</td>\n",
       "      <td>transacao_2</td>\n",
       "      <td>url_1</td>\n",
       "      <td>20190910092702</td>\n",
       "    </tr>\n",
       "    <tr>\n",
       "      <th>4</th>\n",
       "      <td>sessao_0</td>\n",
       "      <td>transacao_3</td>\n",
       "      <td>url_1</td>\n",
       "      <td>20190910092702</td>\n",
       "    </tr>\n",
       "  </tbody>\n",
       "</table>\n",
       "</div>"
      ],
      "text/plain": [
       "     SESSAO    COD_TRANS    URL            DATA\n",
       "0  sessao_0  transacao_0  url_0  20190910092545\n",
       "1  sessao_0  transacao_1  url_0  20190910092603\n",
       "2  sessao_0  transacao_0  url_0  20190910092603\n",
       "3  sessao_0  transacao_2  url_1  20190910092702\n",
       "4  sessao_0  transacao_3  url_1  20190910092702"
      ]
     },
     "execution_count": 3,
     "metadata": {},
     "output_type": "execute_result"
    }
   ],
   "source": [
    "df.head()"
   ]
  },
  {
   "cell_type": "code",
   "execution_count": 4,
   "metadata": {},
   "outputs": [],
   "source": [
    "ndf = []"
   ]
  },
  {
   "cell_type": "code",
   "execution_count": 5,
   "metadata": {},
   "outputs": [],
   "source": [
    "sess = list(set(df.SESSAO))"
   ]
  },
  {
   "cell_type": "code",
   "execution_count": 6,
   "metadata": {},
   "outputs": [],
   "source": [
    "for s in sess:\n",
    "    if len(ndf) == 0:\n",
    "        # ndf = [[s] + list(np.array(df[df.SESSAO == s].COD_TRANS).T)]\n",
    "        ndf = [list(np.array(df[df.SESSAO == s].COD_TRANS).T)]\n",
    "    else:\n",
    "        #ndf.append([s] + list(np.array(df[df.SESSAO == s].COD_TRANS).T))\n",
    "        ndf.append(list(np.array(df[df.SESSAO == s].COD_TRANS).T))"
   ]
  },
  {
   "cell_type": "code",
   "execution_count": 7,
   "metadata": {},
   "outputs": [],
   "source": [
    "m = 0\n",
    "for i in ndf:\n",
    "    t = len(i)\n",
    "    if max(t, m)  == t:\n",
    "        m = t"
   ]
  },
  {
   "cell_type": "code",
   "execution_count": 8,
   "metadata": {},
   "outputs": [],
   "source": [
    "with open(\"sessions-actions.csv\", \"w\", newline=\"\") as f:\n",
    "    writer = csv.writer(f)\n",
    "    writer.writerows(ndf)"
   ]
  }
 ],
 "metadata": {
  "kernelspec": {
   "display_name": "Python 3",
   "language": "python",
   "name": "python3"
  },
  "language_info": {
   "codemirror_mode": {
    "name": "ipython",
    "version": 3
   },
   "file_extension": ".py",
   "mimetype": "text/x-python",
   "name": "python",
   "nbconvert_exporter": "python",
   "pygments_lexer": "ipython3",
   "version": "3.7.5"
  }
 },
 "nbformat": 4,
 "nbformat_minor": 4
}
