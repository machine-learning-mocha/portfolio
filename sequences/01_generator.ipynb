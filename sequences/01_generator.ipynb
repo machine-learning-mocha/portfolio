{
 "cells": [
  {
   "cell_type": "code",
   "execution_count": 62,
   "metadata": {},
   "outputs": [],
   "source": [
    "import pandas as pd"
   ]
  },
  {
   "cell_type": "code",
   "execution_count": 63,
   "metadata": {},
   "outputs": [],
   "source": [
    "res = pd.read_csv('data.csv')"
   ]
  },
  {
   "cell_type": "code",
   "execution_count": 65,
   "metadata": {},
   "outputs": [],
   "source": [
    "res1 = ['sessao_','transacao_','url_'] + res[['SESSAO', 'COD_TRANS', 'URL']].apply(lambda x: pd.factorize(x)[0]).astype(str)"
   ]
  },
  {
   "cell_type": "code",
   "execution_count": 66,
   "metadata": {},
   "outputs": [],
   "source": [
    "res1['DATA'] = res.DATA"
   ]
  },
  {
   "cell_type": "code",
   "execution_count": 67,
   "metadata": {},
   "outputs": [
    {
     "data": {
      "text/html": [
       "<div>\n",
       "<style scoped>\n",
       "    .dataframe tbody tr th:only-of-type {\n",
       "        vertical-align: middle;\n",
       "    }\n",
       "\n",
       "    .dataframe tbody tr th {\n",
       "        vertical-align: top;\n",
       "    }\n",
       "\n",
       "    .dataframe thead th {\n",
       "        text-align: right;\n",
       "    }\n",
       "</style>\n",
       "<table border=\"1\" class=\"dataframe\">\n",
       "  <thead>\n",
       "    <tr style=\"text-align: right;\">\n",
       "      <th></th>\n",
       "      <th>SESSAO</th>\n",
       "      <th>COD_TRANS</th>\n",
       "      <th>URL</th>\n",
       "      <th>DATA</th>\n",
       "    </tr>\n",
       "  </thead>\n",
       "  <tbody>\n",
       "    <tr>\n",
       "      <th>0</th>\n",
       "      <td>sessao_0</td>\n",
       "      <td>transacao_0</td>\n",
       "      <td>url_0</td>\n",
       "      <td>20190910092545</td>\n",
       "    </tr>\n",
       "    <tr>\n",
       "      <th>1</th>\n",
       "      <td>sessao_0</td>\n",
       "      <td>transacao_1</td>\n",
       "      <td>url_0</td>\n",
       "      <td>20190910092603</td>\n",
       "    </tr>\n",
       "    <tr>\n",
       "      <th>2</th>\n",
       "      <td>sessao_0</td>\n",
       "      <td>transacao_0</td>\n",
       "      <td>url_0</td>\n",
       "      <td>20190910092603</td>\n",
       "    </tr>\n",
       "    <tr>\n",
       "      <th>3</th>\n",
       "      <td>sessao_0</td>\n",
       "      <td>transacao_2</td>\n",
       "      <td>url_1</td>\n",
       "      <td>20190910092702</td>\n",
       "    </tr>\n",
       "    <tr>\n",
       "      <th>4</th>\n",
       "      <td>sessao_0</td>\n",
       "      <td>transacao_3</td>\n",
       "      <td>url_1</td>\n",
       "      <td>20190910092702</td>\n",
       "    </tr>\n",
       "    <tr>\n",
       "      <th>...</th>\n",
       "      <td>...</td>\n",
       "      <td>...</td>\n",
       "      <td>...</td>\n",
       "      <td>...</td>\n",
       "    </tr>\n",
       "    <tr>\n",
       "      <th>102722</th>\n",
       "      <td>sessao_9999</td>\n",
       "      <td>transacao_4</td>\n",
       "      <td>url_1</td>\n",
       "      <td>20190910172623</td>\n",
       "    </tr>\n",
       "    <tr>\n",
       "      <th>102723</th>\n",
       "      <td>sessao_9999</td>\n",
       "      <td>transacao_3</td>\n",
       "      <td>url_1</td>\n",
       "      <td>20190910172623</td>\n",
       "    </tr>\n",
       "    <tr>\n",
       "      <th>102724</th>\n",
       "      <td>sessao_9999</td>\n",
       "      <td>transacao_2</td>\n",
       "      <td>url_1</td>\n",
       "      <td>20190910172623</td>\n",
       "    </tr>\n",
       "    <tr>\n",
       "      <th>102725</th>\n",
       "      <td>sessao_9999</td>\n",
       "      <td>transacao_6</td>\n",
       "      <td>url_2</td>\n",
       "      <td>20190910172629</td>\n",
       "    </tr>\n",
       "    <tr>\n",
       "      <th>102726</th>\n",
       "      <td>sessao_9999</td>\n",
       "      <td>transacao_5</td>\n",
       "      <td>url_2</td>\n",
       "      <td>20190910172630</td>\n",
       "    </tr>\n",
       "  </tbody>\n",
       "</table>\n",
       "<p>102727 rows × 4 columns</p>\n",
       "</div>"
      ],
      "text/plain": [
       "             SESSAO    COD_TRANS    URL            DATA\n",
       "0          sessao_0  transacao_0  url_0  20190910092545\n",
       "1          sessao_0  transacao_1  url_0  20190910092603\n",
       "2          sessao_0  transacao_0  url_0  20190910092603\n",
       "3          sessao_0  transacao_2  url_1  20190910092702\n",
       "4          sessao_0  transacao_3  url_1  20190910092702\n",
       "...             ...          ...    ...             ...\n",
       "102722  sessao_9999  transacao_4  url_1  20190910172623\n",
       "102723  sessao_9999  transacao_3  url_1  20190910172623\n",
       "102724  sessao_9999  transacao_2  url_1  20190910172623\n",
       "102725  sessao_9999  transacao_6  url_2  20190910172629\n",
       "102726  sessao_9999  transacao_5  url_2  20190910172630\n",
       "\n",
       "[102727 rows x 4 columns]"
      ]
     },
     "execution_count": 67,
     "metadata": {},
     "output_type": "execute_result"
    }
   ],
   "source": [
    "res1"
   ]
  },
  {
   "cell_type": "code",
   "execution_count": 69,
   "metadata": {},
   "outputs": [],
   "source": [
    "res1.to_csv('sanitized.csv')"
   ]
  }
 ],
 "metadata": {
  "kernelspec": {
   "display_name": "Python 3",
   "language": "python",
   "name": "python3"
  },
  "language_info": {
   "codemirror_mode": {
    "name": "ipython",
    "version": 3
   },
   "file_extension": ".py",
   "mimetype": "text/x-python",
   "name": "python",
   "nbconvert_exporter": "python",
   "pygments_lexer": "ipython3",
   "version": "3.7.5"
  }
 },
 "nbformat": 4,
 "nbformat_minor": 4
}
