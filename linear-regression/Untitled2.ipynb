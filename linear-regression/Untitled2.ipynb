{
 "cells": [
  {
   "cell_type": "code",
   "execution_count": null,
   "metadata": {},
   "outputs": [],
   "source": [
    "\"\"\"\n",
    "Realiza, com supervisão, agregações e junções entre tabelas de forma adequada para análise e modelagem de um problema\n",
    "Extrai e importa dados de arquivos texto e bancos de dados relacionais (SQL)\n",
    "\n",
    "Identifica oportunidade de enriquecer os dados existentes (com dados internos ou externos) para testar hipóteses ou modelar problemas\n",
    "Analisa e gera visualizações utilizando técnicas de redução de dimensionalidade quando apropriado (ex: feature selection, PCA)\n",
    "\n",
    "Aplicar técnicas de normalization e scaling nas features quando necessário (ex: modelos treinados com Gradiente Descendente (regressões, redes neurais), SVMs etc)\n",
    "\n",
    "Utiliza técnicas de seleção de variáveis quando necessário (e.g. matriz de correlação, feature importances de trees ensembles)\n",
    "Conhece e consegue implementar modelos probabilísticos, considerando a distribuicao dos dados (e.g. binomial, normal, bernoulli e poisson)\n",
    "Conhecer os pré-requisitos de dados para as principais técnicas de ML/estatística (ex: distribuição normal, série temporal estacionária, normalização de dados)\n",
    "Sabe implementar uma solução de análise e predição de séries temporais\n",
    "Capaz de definir testes de hipótese, e avaliar a significância estatística dos resultados dos experimentos\n",
    "\"\"\""
   ]
  }
 ],
 "metadata": {
  "kernelspec": {
   "display_name": "Python 3",
   "language": "python",
   "name": "python3"
  },
  "language_info": {
   "codemirror_mode": {
    "name": "ipython",
    "version": 3
   },
   "file_extension": ".py",
   "mimetype": "text/x-python",
   "name": "python",
   "nbconvert_exporter": "python",
   "pygments_lexer": "ipython3",
   "version": "3.7.5"
  }
 },
 "nbformat": 4,
 "nbformat_minor": 4
}
