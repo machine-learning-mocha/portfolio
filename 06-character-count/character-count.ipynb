{
 "cells": [
  {
   "cell_type": "markdown",
   "metadata": {},
   "source": [
    "# A just for fun character count"
   ]
  },
  {
   "cell_type": "code",
   "execution_count": 1,
   "metadata": {},
   "outputs": [],
   "source": [
    "import operator\n",
    "from collections import Counter\n",
    "import unidecode\n",
    "import requests\n",
    "from bs4 import BeautifulSoup\n",
    "import re\n",
    "from IPython.display import HTML, display\n",
    "import tabulate"
   ]
  },
  {
   "cell_type": "code",
   "execution_count": 2,
   "metadata": {},
   "outputs": [],
   "source": [
    "link = \"https://www.uol.com.br\"\n",
    "html = requests.get(link).text"
   ]
  },
  {
   "cell_type": "code",
   "execution_count": 3,
   "metadata": {},
   "outputs": [],
   "source": [
    "soup = BeautifulSoup(html, \"lxml\")"
   ]
  },
  {
   "cell_type": "code",
   "execution_count": 4,
   "metadata": {},
   "outputs": [],
   "source": [
    "phrase = soup.get_text()"
   ]
  },
  {
   "cell_type": "code",
   "execution_count": 5,
   "metadata": {},
   "outputs": [],
   "source": [
    "phrase = unidecode.unidecode(phrase.strip().lower())\n",
    "clean_string = re.sub('[^A-Za-z0-9]+', '', phrase)\n",
    "counts = Counter(clean_string)\n",
    "sorted_counts = sorted(counts.items(), key=lambda kv: kv[1])"
   ]
  },
  {
   "cell_type": "code",
   "execution_count": 6,
   "metadata": {},
   "outputs": [
    {
     "data": {
      "text/html": [
       "<table>\n",
       "<tbody>\n",
       "<tr><td>6</td><td style=\"text-align: right;\">   8</td></tr>\n",
       "<tr><td>8</td><td style=\"text-align: right;\">   8</td></tr>\n",
       "<tr><td>9</td><td style=\"text-align: right;\">  14</td></tr>\n",
       "<tr><td>5</td><td style=\"text-align: right;\">  16</td></tr>\n",
       "<tr><td>7</td><td style=\"text-align: right;\">  16</td></tr>\n",
       "<tr><td>4</td><td style=\"text-align: right;\">  17</td></tr>\n",
       "<tr><td>3</td><td style=\"text-align: right;\">  17</td></tr>\n",
       "<tr><td>k</td><td style=\"text-align: right;\">  19</td></tr>\n",
       "<tr><td>y</td><td style=\"text-align: right;\">  27</td></tr>\n",
       "<tr><td>w</td><td style=\"text-align: right;\">  28</td></tr>\n",
       "<tr><td>2</td><td style=\"text-align: right;\">  33</td></tr>\n",
       "<tr><td>1</td><td style=\"text-align: right;\">  35</td></tr>\n",
       "<tr><td>x</td><td style=\"text-align: right;\">  40</td></tr>\n",
       "<tr><td>z</td><td style=\"text-align: right;\">  42</td></tr>\n",
       "<tr><td>j</td><td style=\"text-align: right;\">  49</td></tr>\n",
       "<tr><td>0</td><td style=\"text-align: right;\">  56</td></tr>\n",
       "<tr><td>q</td><td style=\"text-align: right;\">  65</td></tr>\n",
       "<tr><td>h</td><td style=\"text-align: right;\"> 126</td></tr>\n",
       "<tr><td>f</td><td style=\"text-align: right;\"> 147</td></tr>\n",
       "<tr><td>g</td><td style=\"text-align: right;\"> 175</td></tr>\n",
       "<tr><td>b</td><td style=\"text-align: right;\"> 195</td></tr>\n",
       "<tr><td>v</td><td style=\"text-align: right;\"> 231</td></tr>\n",
       "<tr><td>p</td><td style=\"text-align: right;\"> 363</td></tr>\n",
       "<tr><td>m</td><td style=\"text-align: right;\"> 483</td></tr>\n",
       "<tr><td>u</td><td style=\"text-align: right;\"> 506</td></tr>\n",
       "<tr><td>l</td><td style=\"text-align: right;\"> 572</td></tr>\n",
       "<tr><td>d</td><td style=\"text-align: right;\"> 583</td></tr>\n",
       "<tr><td>c</td><td style=\"text-align: right;\"> 607</td></tr>\n",
       "<tr><td>t</td><td style=\"text-align: right;\"> 607</td></tr>\n",
       "<tr><td>n</td><td style=\"text-align: right;\"> 673</td></tr>\n",
       "<tr><td>r</td><td style=\"text-align: right;\"> 936</td></tr>\n",
       "<tr><td>s</td><td style=\"text-align: right;\"> 994</td></tr>\n",
       "<tr><td>i</td><td style=\"text-align: right;\">1023</td></tr>\n",
       "<tr><td>o</td><td style=\"text-align: right;\">1423</td></tr>\n",
       "<tr><td>e</td><td style=\"text-align: right;\">1447</td></tr>\n",
       "<tr><td>a</td><td style=\"text-align: right;\">1731</td></tr>\n",
       "</tbody>\n",
       "</table>"
      ],
      "text/plain": [
       "<IPython.core.display.HTML object>"
      ]
     },
     "metadata": {},
     "output_type": "display_data"
    }
   ],
   "source": [
    "display(HTML(tabulate.tabulate(sorted_counts, tablefmt='html')))"
   ]
  }
 ],
 "metadata": {
  "kernelspec": {
   "display_name": "Python 3",
   "language": "python",
   "name": "python3"
  },
  "language_info": {
   "codemirror_mode": {
    "name": "ipython",
    "version": 3
   },
   "file_extension": ".py",
   "mimetype": "text/x-python",
   "name": "python",
   "nbconvert_exporter": "python",
   "pygments_lexer": "ipython3",
   "version": "3.7.6"
  }
 },
 "nbformat": 4,
 "nbformat_minor": 4
}
