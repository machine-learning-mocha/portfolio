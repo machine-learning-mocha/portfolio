{
 "cells": [
  {
   "cell_type": "code",
   "execution_count": 1,
   "metadata": {},
   "outputs": [],
   "source": [
    "import operator\n",
    "from collections import Counter\n",
    "import unidecode\n",
    "import requests\n",
    "from bs4 import BeautifulSoup\n",
    "import re\n",
    "from IPython.display import HTML, display\n",
    "import tabulate"
   ]
  },
  {
   "cell_type": "code",
   "execution_count": 2,
   "metadata": {},
   "outputs": [],
   "source": [
    "link = \"https://www.uol.com.br\"\n",
    "html = requests.get(link).text"
   ]
  },
  {
   "cell_type": "code",
   "execution_count": 3,
   "metadata": {},
   "outputs": [],
   "source": [
    "soup = BeautifulSoup(html, \"lxml\")"
   ]
  },
  {
   "cell_type": "code",
   "execution_count": 4,
   "metadata": {},
   "outputs": [],
   "source": [
    "phrase = soup.get_text()"
   ]
  },
  {
   "cell_type": "code",
   "execution_count": 5,
   "metadata": {},
   "outputs": [],
   "source": [
    "phrase = unidecode.unidecode(phrase.strip().lower())\n",
    "clean_string = re.sub('[^A-Za-z0-9]+', '', phrase)\n",
    "counts = Counter(clean_string)\n",
    "sorted_counts = sorted(counts.items(), key=lambda kv: kv[1])"
   ]
  },
  {
   "cell_type": "code",
   "execution_count": 6,
   "metadata": {},
   "outputs": [
    {
     "data": {
      "text/html": [
       "<table>\n",
       "<tbody>\n",
       "<tr><td>8</td><td style=\"text-align: right;\">  56</td></tr>\n",
       "<tr><td>7</td><td style=\"text-align: right;\">  65</td></tr>\n",
       "<tr><td>9</td><td style=\"text-align: right;\">  65</td></tr>\n",
       "<tr><td>6</td><td style=\"text-align: right;\">  72</td></tr>\n",
       "<tr><td>3</td><td style=\"text-align: right;\">  73</td></tr>\n",
       "<tr><td>4</td><td style=\"text-align: right;\">  88</td></tr>\n",
       "<tr><td>q</td><td style=\"text-align: right;\"> 106</td></tr>\n",
       "<tr><td>5</td><td style=\"text-align: right;\"> 150</td></tr>\n",
       "<tr><td>y</td><td style=\"text-align: right;\"> 152</td></tr>\n",
       "<tr><td>x</td><td style=\"text-align: right;\"> 155</td></tr>\n",
       "<tr><td>j</td><td style=\"text-align: right;\"> 164</td></tr>\n",
       "<tr><td>2</td><td style=\"text-align: right;\"> 170</td></tr>\n",
       "<tr><td>k</td><td style=\"text-align: right;\"> 214</td></tr>\n",
       "<tr><td>0</td><td style=\"text-align: right;\"> 236</td></tr>\n",
       "<tr><td>z</td><td style=\"text-align: right;\"> 239</td></tr>\n",
       "<tr><td>1</td><td style=\"text-align: right;\"> 264</td></tr>\n",
       "<tr><td>w</td><td style=\"text-align: right;\"> 587</td></tr>\n",
       "<tr><td>f</td><td style=\"text-align: right;\"> 707</td></tr>\n",
       "<tr><td>b</td><td style=\"text-align: right;\"> 712</td></tr>\n",
       "<tr><td>h</td><td style=\"text-align: right;\"> 836</td></tr>\n",
       "<tr><td>v</td><td style=\"text-align: right;\"> 949</td></tr>\n",
       "<tr><td>p</td><td style=\"text-align: right;\">1092</td></tr>\n",
       "<tr><td>g</td><td style=\"text-align: right;\">1149</td></tr>\n",
       "<tr><td>u</td><td style=\"text-align: right;\">1454</td></tr>\n",
       "<tr><td>m</td><td style=\"text-align: right;\">1681</td></tr>\n",
       "<tr><td>d</td><td style=\"text-align: right;\">2211</td></tr>\n",
       "<tr><td>c</td><td style=\"text-align: right;\">2216</td></tr>\n",
       "<tr><td>l</td><td style=\"text-align: right;\">2376</td></tr>\n",
       "<tr><td>n</td><td style=\"text-align: right;\">2385</td></tr>\n",
       "<tr><td>r</td><td style=\"text-align: right;\">2891</td></tr>\n",
       "<tr><td>s</td><td style=\"text-align: right;\">3315</td></tr>\n",
       "<tr><td>t</td><td style=\"text-align: right;\">3497</td></tr>\n",
       "<tr><td>i</td><td style=\"text-align: right;\">3882</td></tr>\n",
       "<tr><td>o</td><td style=\"text-align: right;\">4143</td></tr>\n",
       "<tr><td>e</td><td style=\"text-align: right;\">4813</td></tr>\n",
       "<tr><td>a</td><td style=\"text-align: right;\">5193</td></tr>\n",
       "</tbody>\n",
       "</table>"
      ],
      "text/plain": [
       "<IPython.core.display.HTML object>"
      ]
     },
     "metadata": {},
     "output_type": "display_data"
    }
   ],
   "source": [
    "display(HTML(tabulate.tabulate(sorted_counts, tablefmt='html')))"
   ]
  }
 ],
 "metadata": {
  "kernelspec": {
   "display_name": "Python 3",
   "language": "python",
   "name": "python3"
  },
  "language_info": {
   "codemirror_mode": {
    "name": "ipython",
    "version": 3
   },
   "file_extension": ".py",
   "mimetype": "text/x-python",
   "name": "python",
   "nbconvert_exporter": "python",
   "pygments_lexer": "ipython3",
   "version": "3.7.3"
  }
 },
 "nbformat": 4,
 "nbformat_minor": 4
}
