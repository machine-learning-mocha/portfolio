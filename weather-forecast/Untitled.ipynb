{
 "cells": [
  {
   "cell_type": "markdown",
   "metadata": {},
   "source": [
    "# Weather forecast from [CEPAGRI](http://www.cpa.unicamp.br/)<sup>[1](#fn1)</sup>"
   ]
  },
  {
   "cell_type": "code",
   "execution_count": null,
   "metadata": {},
   "outputs": [],
   "source": [
    "# https://towardsdatascience.com/an-end-to-end-project-on-time-series-analysis-and-forecasting-with-python-4835e6bf050b\n",
    "# https://www.ethanrosenthal.com/2018/03/22/time-series-for-scikit-learn-people-part2/\n",
    "# https://machinelearningmastery.com/arima-for-time-series-forecasting-with-python/"
   ]
  },
  {
   "cell_type": "markdown",
   "metadata": {},
   "source": [
    "## Imports"
   ]
  },
  {
   "cell_type": "code",
   "execution_count": 2,
   "metadata": {},
   "outputs": [],
   "source": [
    "import os\n",
    "import requests\n",
    "import pandas as pd\n",
    "import datetime\n",
    "from matplotlib import pyplot as plt\n",
    "import matplotlib.colors as colors\n",
    "import matplotlib.cm as cmx\n",
    "%matplotlib inline\n",
    "plt.rcParams['figure.figsize'] = [19, 9]"
   ]
  },
  {
   "cell_type": "markdown",
   "metadata": {},
   "source": [
    "## Load file"
   ]
  },
  {
   "cell_type": "code",
   "execution_count": 3,
   "metadata": {},
   "outputs": [],
   "source": [
    "url = 'https://www.ic.unicamp.br/~zanoni/cepagri/cepagri.csv'\n",
    "response = requests.get(url)\n",
    "with open(os.path.join(\"data\", \"cepagri.csv\"), 'wb') as f:\n",
    "    f.write(response.content)"
   ]
  },
  {
   "cell_type": "code",
   "execution_count": 4,
   "metadata": {},
   "outputs": [
    {
     "name": "stderr",
     "output_type": "stream",
     "text": [
      "/anaconda3/lib/python3.7/site-packages/IPython/core/interactiveshell.py:3058: DtypeWarning: Columns (1) have mixed types. Specify dtype option on import or set low_memory=False.\n",
      "  interactivity=interactivity, compiler=compiler, result=result)\n"
     ]
    }
   ],
   "source": [
    "data = pd.read_csv(\"data/cepagri.csv\", header = None, sep=';')"
   ]
  },
  {
   "cell_type": "code",
   "execution_count": 5,
   "metadata": {},
   "outputs": [],
   "source": [
    "data.columns = ['date', 'temperature', 'wind', 'humidity', 'sensation']"
   ]
  },
  {
   "cell_type": "code",
   "execution_count": 6,
   "metadata": {},
   "outputs": [],
   "source": [
    "data.date = pd.to_datetime(data.date, format='%d/%m/%Y-%H:%M', errors='coerce')"
   ]
  },
  {
   "cell_type": "code",
   "execution_count": 7,
   "metadata": {},
   "outputs": [],
   "source": [
    "data = data.loc[(data.date < '2018-01-01') & (data.date >= '2015-1-1')]"
   ]
  },
  {
   "cell_type": "code",
   "execution_count": 8,
   "metadata": {},
   "outputs": [],
   "source": [
    "data.temperature = pd.to_numeric(data.temperature, errors='coerce')\n",
    "data['date_trunc'] = data['date'].apply(lambda s: datetime.date(s.year, s.month, 1))"
   ]
  },
  {
   "cell_type": "code",
   "execution_count": 9,
   "metadata": {},
   "outputs": [
    {
     "data": {
      "text/plain": [
       "date           datetime64[ns]\n",
       "temperature           float64\n",
       "wind                  float64\n",
       "humidity              float64\n",
       "sensation             float64\n",
       "date_trunc             object\n",
       "dtype: object"
      ]
     },
     "execution_count": 9,
     "metadata": {},
     "output_type": "execute_result"
    }
   ],
   "source": [
    "data.dtypes"
   ]
  },
  {
   "cell_type": "code",
   "execution_count": 10,
   "metadata": {},
   "outputs": [
    {
     "data": {
      "text/plain": [
       "(156058, 6)"
      ]
     },
     "execution_count": 10,
     "metadata": {},
     "output_type": "execute_result"
    }
   ],
   "source": [
    "data.shape"
   ]
  },
  {
   "cell_type": "code",
   "execution_count": 11,
   "metadata": {},
   "outputs": [
    {
     "data": {
      "text/html": [
       "<div>\n",
       "<style scoped>\n",
       "    .dataframe tbody tr th:only-of-type {\n",
       "        vertical-align: middle;\n",
       "    }\n",
       "\n",
       "    .dataframe tbody tr th {\n",
       "        vertical-align: top;\n",
       "    }\n",
       "\n",
       "    .dataframe thead th {\n",
       "        text-align: right;\n",
       "    }\n",
       "</style>\n",
       "<table border=\"1\" class=\"dataframe\">\n",
       "  <thead>\n",
       "    <tr style=\"text-align: right;\">\n",
       "      <th></th>\n",
       "      <th>date</th>\n",
       "      <th>temperature</th>\n",
       "      <th>wind</th>\n",
       "      <th>humidity</th>\n",
       "      <th>sensation</th>\n",
       "      <th>date_trunc</th>\n",
       "    </tr>\n",
       "  </thead>\n",
       "  <tbody>\n",
       "    <tr>\n",
       "      <th>42082</th>\n",
       "      <td>2015-01-01 00:00:00</td>\n",
       "      <td>22.7</td>\n",
       "      <td>22.2</td>\n",
       "      <td>92.2</td>\n",
       "      <td>21.6</td>\n",
       "      <td>2015-01-01</td>\n",
       "    </tr>\n",
       "    <tr>\n",
       "      <th>42083</th>\n",
       "      <td>2015-01-01 00:10:00</td>\n",
       "      <td>NaN</td>\n",
       "      <td>NaN</td>\n",
       "      <td>NaN</td>\n",
       "      <td>NaN</td>\n",
       "      <td>2015-01-01</td>\n",
       "    </tr>\n",
       "    <tr>\n",
       "      <th>42084</th>\n",
       "      <td>2015-01-01 00:20:00</td>\n",
       "      <td>22.6</td>\n",
       "      <td>23.1</td>\n",
       "      <td>92.5</td>\n",
       "      <td>21.5</td>\n",
       "      <td>2015-01-01</td>\n",
       "    </tr>\n",
       "    <tr>\n",
       "      <th>42085</th>\n",
       "      <td>2015-01-01 00:30:00</td>\n",
       "      <td>22.7</td>\n",
       "      <td>23.1</td>\n",
       "      <td>92.0</td>\n",
       "      <td>21.6</td>\n",
       "      <td>2015-01-01</td>\n",
       "    </tr>\n",
       "    <tr>\n",
       "      <th>42086</th>\n",
       "      <td>2015-01-01 00:40:00</td>\n",
       "      <td>22.8</td>\n",
       "      <td>22.7</td>\n",
       "      <td>91.3</td>\n",
       "      <td>21.7</td>\n",
       "      <td>2015-01-01</td>\n",
       "    </tr>\n",
       "  </tbody>\n",
       "</table>\n",
       "</div>"
      ],
      "text/plain": [
       "                     date  temperature  wind  humidity  sensation  date_trunc\n",
       "42082 2015-01-01 00:00:00         22.7  22.2      92.2       21.6  2015-01-01\n",
       "42083 2015-01-01 00:10:00          NaN   NaN       NaN        NaN  2015-01-01\n",
       "42084 2015-01-01 00:20:00         22.6  23.1      92.5       21.5  2015-01-01\n",
       "42085 2015-01-01 00:30:00         22.7  23.1      92.0       21.6  2015-01-01\n",
       "42086 2015-01-01 00:40:00         22.8  22.7      91.3       21.7  2015-01-01"
      ]
     },
     "execution_count": 11,
     "metadata": {},
     "output_type": "execute_result"
    }
   ],
   "source": [
    "data.head()"
   ]
  },
  {
   "cell_type": "code",
   "execution_count": 12,
   "metadata": {},
   "outputs": [
    {
     "name": "stderr",
     "output_type": "stream",
     "text": [
      "/anaconda3/lib/python3.7/site-packages/pandas/plotting/_matplotlib/converter.py:103: FutureWarning: Using an implicitly registered datetime converter for a matplotlib plotting method. The converter was registered by pandas on import. Future versions of pandas will require you to explicitly register matplotlib converters.\n",
      "\n",
      "To register the converters:\n",
      "\t>>> from pandas.plotting import register_matplotlib_converters\n",
      "\t>>> register_matplotlib_converters()\n",
      "  warnings.warn(msg, FutureWarning)\n"
     ]
    },
    {
     "data": {
      "text/plain": [
       "[<matplotlib.lines.Line2D at 0x11ad6f590>]"
      ]
     },
     "execution_count": 12,
     "metadata": {},
     "output_type": "execute_result"
    },
    {
     "data": {
      "image/png": "[encoded data removed]",
      "text/plain": [
       "<Figure size 432x288 with 1 Axes>"
      ]
     },
     "metadata": {
      "needs_background": "light"
     },
     "output_type": "display_data"
    }
   ],
   "source": [
    "#plt.plot('date', 'temperature', data=data, marker='o', markerfacecolor='blue', markersize=12, color='skyblue', linewidth=4)\n",
    "#plt.plot('date', 'sensation', data=data, marker='', color='olive', linewidth=2)\n",
    "# plt.plot('date', 'y3', data=data, marker='', color='olive', linewidth=2, linestyle='dashed', label=\"toto\")\n",
    "#plt.legend()\n",
    "plt.plot(data.date, data.temperature)\n",
    "plt.plot(data.date, data.sensation)"
   ]
  },
  {
   "cell_type": "markdown",
   "metadata": {},
   "source": [
    "## Data cleaning"
   ]
  },
  {
   "cell_type": "markdown",
   "metadata": {},
   "source": [
    "First, we'll deal with `na`values. Let's simple remove it"
   ]
  },
  {
   "cell_type": "code",
   "execution_count": 13,
   "metadata": {},
   "outputs": [],
   "source": [
    "data = data.dropna()"
   ]
  },
  {
   "cell_type": "markdown",
   "metadata": {},
   "source": [
    "Now, let's remove spurious data."
   ]
  },
  {
   "cell_type": "code",
   "execution_count": 14,
   "metadata": {},
   "outputs": [],
   "source": [
    "data = data[data.sensation != 99.9]"
   ]
  },
  {
   "cell_type": "code",
   "execution_count": 15,
   "metadata": {},
   "outputs": [
    {
     "data": {
      "text/plain": [
       "(154120, 6)"
      ]
     },
     "execution_count": 15,
     "metadata": {},
     "output_type": "execute_result"
    }
   ],
   "source": [
    "data.shape"
   ]
  },
  {
   "cell_type": "code",
   "execution_count": 16,
   "metadata": {},
   "outputs": [
    {
     "data": {
      "text/plain": [
       "Text(0.5, 0, 'Date')"
      ]
     },
     "execution_count": 16,
     "metadata": {},
     "output_type": "execute_result"
    },
    {
     "name": "stderr",
     "output_type": "stream",
     "text": [
      "/anaconda3/lib/python3.7/site-packages/IPython/core/events.py:88: UserWarning: Creating legend with loc=\"best\" can be slow with large amounts of data.\n",
      "  func(*args, **kwargs)\n",
      "/anaconda3/lib/python3.7/site-packages/IPython/core/pylabtools.py:128: UserWarning: Creating legend with loc=\"best\" can be slow with large amounts of data.\n",
      "  fig.canvas.print_figure(bytes_io, **kw)\n"
     ]
    },
    {
     "data": {
      "image/png": "[encoded data removed]",
      "text/plain": [
       "<Figure size 432x288 with 1 Axes>"
      ]
     },
     "metadata": {
      "needs_background": "light"
     },
     "output_type": "display_data"
    }
   ],
   "source": [
    "plt.plot(data.date, data.temperature)\n",
    "plt.plot(data.date, data.sensation)\n",
    "plt.legend(['Temperature', 'Sensation'])\n",
    "plt.xlabel('Date')"
   ]
  },
  {
   "cell_type": "code",
   "execution_count": 17,
   "metadata": {},
   "outputs": [
    {
     "data": {
      "text/plain": [
       "Text(0.5, 0, 'Date')"
      ]
     },
     "execution_count": 17,
     "metadata": {},
     "output_type": "execute_result"
    },
    {
     "data": {
      "image/png": "[encoded data removed]",
      "text/plain": [
       "<Figure size 432x288 with 1 Axes>"
      ]
     },
     "metadata": {
      "needs_background": "light"
     },
     "output_type": "display_data"
    }
   ],
   "source": [
    "plt.plot('date', 'wind', data=data)\n",
    "plt.plot('date', 'humidity', data=data)\n",
    "plt.legend(['Wind', 'Humidity'])\n",
    "plt.xlabel('Date')"
   ]
  },
  {
   "cell_type": "markdown",
   "metadata": {},
   "source": [
    "## Psychrometrics analysis"
   ]
  },
  {
   "cell_type": "markdown",
   "metadata": {},
   "source": [
    "Based on [[2]](#fn2), we have: \n",
    "\n",
    "| Relative Humidity (in %) | State |\n",
    "|--------------------------|-----------|\n",
    "| 0 to 11.9 | Emergency |\n",
    "| 12 to 19.9 | Alert |\n",
    "| 20 to 29.9 | Attention |\n",
    "\n",
    "Let's display the frequency of days with these characteristics:"
   ]
  },
  {
   "cell_type": "code",
   "execution_count": 18,
   "metadata": {},
   "outputs": [],
   "source": [
    "data['humidity_level'] = 'NORMAL'\n",
    "data.loc[data['humidity'] < 30, 'humidity_level'] = 'WARNING'\n",
    "data.loc[data['humidity'] < 20, 'humidity_level'] = 'ALERT'\n",
    "data.loc[data['humidity'] < 12, 'humidity_level'] = 'EMERGENCY'\n",
    "data.humidity_level = data.humidity_level.astype('category')"
   ]
  },
  {
   "cell_type": "code",
   "execution_count": 19,
   "metadata": {},
   "outputs": [
    {
     "data": {
      "text/plain": [
       "[<matplotlib.lines.Line2D at 0x108cac410>]"
      ]
     },
     "execution_count": 19,
     "metadata": {},
     "output_type": "execute_result"
    },
    {
     "data": {
      "image/png": "[encoded data removed]",
      "text/plain": [
       "<Figure size 432x288 with 1 Axes>"
      ]
     },
     "metadata": {
      "needs_background": "light"
     },
     "output_type": "display_data"
    }
   ],
   "source": [
    "data['cat_code'] = data.humidity_level.astype('category').cat.codes.astype('int')\n",
    "plt.plot('date', 'humidity', data=data)\n"
   ]
  },
  {
   "cell_type": "markdown",
   "metadata": {},
   "source": [
    "## Beaufort scale"
   ]
  },
  {
   "cell_type": "markdown",
   "metadata": {},
   "source": [
    "| Grau |     Designação      | Velocidade(km/h) |\n",
    "| :--- | :-----------------: | ---------------: |\n",
    "| 0    |        Calm         | <1              |\n",
    "| 1    |       Light air     | 1 a 5            |\n",
    "| 2    |     Light breeze    | 6 a 11           |\n",
    "| 3    |     Gentle breeze\t | 12 a 19          |\n",
    "| 4    |   Moderate breeze   | 20 a 28          |\n",
    "| 5    |     Fresh breeze    | 29 a 38          |\n",
    "| 6    |    Strong breeze    | 39 a 49          |\n",
    "| 7    |     High wind       | 50 a 61          |\n",
    "| 8    |      Fresh gale     | 62 a 74          |\n",
    "| 9    | Strong/severe gale\t | 75 a 88          |\n",
    "| 10   |     Storm           | 89 a 102         |\n",
    "| 11   | Violent Storm       | 103 a 117        |\n",
    "| 12   |   Hurricane force   | \\>118            |"
   ]
  },
  {
   "cell_type": "markdown",
   "metadata": {},
   "source": [
    "## Forecast"
   ]
  },
  {
   "cell_type": "code",
   "execution_count": null,
   "metadata": {},
   "outputs": [],
   "source": []
  },
  {
   "cell_type": "markdown",
   "metadata": {},
   "source": [
    "----\n",
    "## Notes"
   ]
  },
  {
   "cell_type": "markdown",
   "metadata": {},
   "source": [
    "<a name=\"fn1\">1</a>: Centro de Pesquisas Meteorológicas e Climáticas Aplicadas à Agricultura. Está instalado no prédio da Embrapa Infomática Agropecuária, localizado no Campus da UNICAMP\n",
    "\n",
    "<a name=\"fn2\">2</a>: https://www.cgesp.org/v3/umidade-relativa-do-ar.jsp"
   ]
  }
 ],
 "metadata": {
  "kernelspec": {
   "display_name": "Python 3",
   "language": "python",
   "name": "python3"
  },
  "language_info": {
   "codemirror_mode": {
    "name": "ipython",
    "version": 3
   },
   "file_extension": ".py",
   "mimetype": "text/x-python",
   "name": "python",
   "nbconvert_exporter": "python",
   "pygments_lexer": "ipython3",
   "version": "3.7.5"
  }
 },
 "nbformat": 4,
 "nbformat_minor": 4
}
